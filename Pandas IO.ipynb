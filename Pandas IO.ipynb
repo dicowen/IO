{
 "cells": [
  {
   "cell_type": "markdown",
   "metadata": {
    "id": "lxkq0xEIPJF9"
   },
   "source": [
    "# Criando os nomes"
   ]
  },
  {
   "cell_type": "code",
   "execution_count": 2,
   "metadata": {
    "executionInfo": {
     "elapsed": 2890,
     "status": "ok",
     "timestamp": 1617294721098,
     "user": {
      "displayName": "Diego Cowen",
      "photoUrl": "https://lh3.googleusercontent.com/a-/AOh14GjO8mnfw734D_zId9Pb9H0btm46gyaEIHLqs5w0-g=s64",
      "userId": "00433632151485364739"
     },
     "user_tz": 180
    },
    "id": "C5Pl1Z6W865V"
   },
   "outputs": [],
   "source": [
    "import pandas as pd"
   ]
  },
  {
   "cell_type": "code",
   "execution_count": 3,
   "metadata": {
    "executionInfo": {
     "elapsed": 3151,
     "status": "ok",
     "timestamp": 1617294721367,
     "user": {
      "displayName": "Diego Cowen",
      "photoUrl": "https://lh3.googleusercontent.com/a-/AOh14GjO8mnfw734D_zId9Pb9H0btm46gyaEIHLqs5w0-g=s64",
      "userId": "00433632151485364739"
     },
     "user_tz": 180
    },
    "id": "5C1Rsw9h-nEm"
   },
   "outputs": [],
   "source": [
    "nomes_m = pd.read_json(\"https://servicodados.ibge.gov.br/api/v1/censos/nomes/ranking?qtd=200&sexo=m\")\n",
    "nomes_f = pd.read_json(\"https://servicodados.ibge.gov.br/api/v1/censos/nomes/ranking?qtd=200&sexo=f\")"
   ]
  },
  {
   "cell_type": "code",
   "execution_count": 4,
   "metadata": {
    "colab": {
     "base_uri": "https://localhost:8080/"
    },
    "executionInfo": {
     "elapsed": 3128,
     "status": "ok",
     "timestamp": 1617294721372,
     "user": {
      "displayName": "Diego Cowen",
      "photoUrl": "https://lh3.googleusercontent.com/a-/AOh14GjO8mnfw734D_zId9Pb9H0btm46gyaEIHLqs5w0-g=s64",
      "userId": "00433632151485364739"
     },
     "user_tz": 180
    },
    "id": "axwhpnhp_DIL",
    "outputId": "a5941f78-4c3e-407d-ed79-6077e47fed7d"
   },
   "outputs": [
    {
     "name": "stdout",
     "output_type": "stream",
     "text": [
      "Quantidade de nomes 400\n"
     ]
    }
   ],
   "source": [
    "print(\"Quantidade de nomes \" + str(len(nomes_f) + len(nomes_m)))"
   ]
  },
  {
   "cell_type": "code",
   "execution_count": 5,
   "metadata": {
    "executionInfo": {
     "elapsed": 3128,
     "status": "ok",
     "timestamp": 1617294721378,
     "user": {
      "displayName": "Diego Cowen",
      "photoUrl": "https://lh3.googleusercontent.com/a-/AOh14GjO8mnfw734D_zId9Pb9H0btm46gyaEIHLqs5w0-g=s64",
      "userId": "00433632151485364739"
     },
     "user_tz": 180
    },
    "id": "AwWQzB7qBHXB"
   },
   "outputs": [],
   "source": [
    "frames = [nomes_f, nomes_m]"
   ]
  },
  {
   "cell_type": "code",
   "execution_count": 6,
   "metadata": {
    "executionInfo": {
     "elapsed": 3122,
     "status": "ok",
     "timestamp": 1617294721380,
     "user": {
      "displayName": "Diego Cowen",
      "photoUrl": "https://lh3.googleusercontent.com/a-/AOh14GjO8mnfw734D_zId9Pb9H0btm46gyaEIHLqs5w0-g=s64",
      "userId": "00433632151485364739"
     },
     "user_tz": 180
    },
    "id": "_4UMCnyzBLY7"
   },
   "outputs": [],
   "source": [
    "nomes = pd.concat(frames)['nome'].to_frame()"
   ]
  },
  {
   "cell_type": "code",
   "execution_count": 7,
   "metadata": {
    "colab": {
     "base_uri": "https://localhost:8080/",
     "height": 204
    },
    "executionInfo": {
     "elapsed": 3105,
     "status": "ok",
     "timestamp": 1617294721381,
     "user": {
      "displayName": "Diego Cowen",
      "photoUrl": "https://lh3.googleusercontent.com/a-/AOh14GjO8mnfw734D_zId9Pb9H0btm46gyaEIHLqs5w0-g=s64",
      "userId": "00433632151485364739"
     },
     "user_tz": 180
    },
    "id": "6teS1thHBYjr",
    "outputId": "05e4a4f1-d423-47ff-9fdc-2886a7f391ba"
   },
   "outputs": [
    {
     "data": {
      "text/html": [
       "<div>\n",
       "<style scoped>\n",
       "    .dataframe tbody tr th:only-of-type {\n",
       "        vertical-align: middle;\n",
       "    }\n",
       "\n",
       "    .dataframe tbody tr th {\n",
       "        vertical-align: top;\n",
       "    }\n",
       "\n",
       "    .dataframe thead th {\n",
       "        text-align: right;\n",
       "    }\n",
       "</style>\n",
       "<table border=\"1\" class=\"dataframe\">\n",
       "  <thead>\n",
       "    <tr style=\"text-align: right;\">\n",
       "      <th></th>\n",
       "      <th>nome</th>\n",
       "    </tr>\n",
       "  </thead>\n",
       "  <tbody>\n",
       "    <tr>\n",
       "      <th>116</th>\n",
       "      <td>DOMINGOS</td>\n",
       "    </tr>\n",
       "    <tr>\n",
       "      <th>145</th>\n",
       "      <td>FRANCIELE</td>\n",
       "    </tr>\n",
       "    <tr>\n",
       "      <th>12</th>\n",
       "      <td>RAFAEL</td>\n",
       "    </tr>\n",
       "    <tr>\n",
       "      <th>23</th>\n",
       "      <td>LARISSA</td>\n",
       "    </tr>\n",
       "    <tr>\n",
       "      <th>166</th>\n",
       "      <td>MICHEL</td>\n",
       "    </tr>\n",
       "  </tbody>\n",
       "</table>\n",
       "</div>"
      ],
      "text/plain": [
       "          nome\n",
       "116   DOMINGOS\n",
       "145  FRANCIELE\n",
       "12      RAFAEL\n",
       "23     LARISSA\n",
       "166     MICHEL"
      ]
     },
     "execution_count": 7,
     "metadata": {},
     "output_type": "execute_result"
    }
   ],
   "source": [
    "nomes.sample(5)"
   ]
  },
  {
   "cell_type": "markdown",
   "metadata": {
    "id": "fr9pCXjEPiVD"
   },
   "source": [
    "# Incluindo ID dos alunos"
   ]
  },
  {
   "cell_type": "code",
   "execution_count": 8,
   "metadata": {
    "executionInfo": {
     "elapsed": 3103,
     "status": "ok",
     "timestamp": 1617294721382,
     "user": {
      "displayName": "Diego Cowen",
      "photoUrl": "https://lh3.googleusercontent.com/a-/AOh14GjO8mnfw734D_zId9Pb9H0btm46gyaEIHLqs5w0-g=s64",
      "userId": "00433632151485364739"
     },
     "user_tz": 180
    },
    "id": "tFQCcN8GPPBN"
   },
   "outputs": [],
   "source": [
    "import numpy as np"
   ]
  },
  {
   "cell_type": "code",
   "execution_count": 9,
   "metadata": {
    "executionInfo": {
     "elapsed": 3100,
     "status": "ok",
     "timestamp": 1617294721382,
     "user": {
      "displayName": "Diego Cowen",
      "photoUrl": "https://lh3.googleusercontent.com/a-/AOh14GjO8mnfw734D_zId9Pb9H0btm46gyaEIHLqs5w0-g=s64",
      "userId": "00433632151485364739"
     },
     "user_tz": 180
    },
    "id": "u94OueklPrn0"
   },
   "outputs": [],
   "source": [
    "np.random.seed(123)"
   ]
  },
  {
   "cell_type": "code",
   "execution_count": 10,
   "metadata": {
    "executionInfo": {
     "elapsed": 3750,
     "status": "ok",
     "timestamp": 1617294722035,
     "user": {
      "displayName": "Diego Cowen",
      "photoUrl": "https://lh3.googleusercontent.com/a-/AOh14GjO8mnfw734D_zId9Pb9H0btm46gyaEIHLqs5w0-g=s64",
      "userId": "00433632151485364739"
     },
     "user_tz": 180
    },
    "id": "HVE6OEHQQIPU"
   },
   "outputs": [],
   "source": [
    "total_alunos = len(nomes)"
   ]
  },
  {
   "cell_type": "code",
   "execution_count": 11,
   "metadata": {
    "executionInfo": {
     "elapsed": 3752,
     "status": "ok",
     "timestamp": 1617294722042,
     "user": {
      "displayName": "Diego Cowen",
      "photoUrl": "https://lh3.googleusercontent.com/a-/AOh14GjO8mnfw734D_zId9Pb9H0btm46gyaEIHLqs5w0-g=s64",
      "userId": "00433632151485364739"
     },
     "user_tz": 180
    },
    "id": "yVULCJ3XQLX1"
   },
   "outputs": [],
   "source": [
    "nomes['id_aluno'] = np.random.permutation(total_alunos) + 1"
   ]
  },
  {
   "cell_type": "code",
   "execution_count": 12,
   "metadata": {
    "colab": {
     "base_uri": "https://localhost:8080/",
     "height": 419
    },
    "executionInfo": {
     "elapsed": 3738,
     "status": "ok",
     "timestamp": 1617294722044,
     "user": {
      "displayName": "Diego Cowen",
      "photoUrl": "https://lh3.googleusercontent.com/a-/AOh14GjO8mnfw734D_zId9Pb9H0btm46gyaEIHLqs5w0-g=s64",
      "userId": "00433632151485364739"
     },
     "user_tz": 180
    },
    "id": "GlF2EIj6RDCu",
    "outputId": "965e1906-a100-4096-942c-dab9593d1ef0"
   },
   "outputs": [
    {
     "data": {
      "text/html": [
       "<div>\n",
       "<style scoped>\n",
       "    .dataframe tbody tr th:only-of-type {\n",
       "        vertical-align: middle;\n",
       "    }\n",
       "\n",
       "    .dataframe tbody tr th {\n",
       "        vertical-align: top;\n",
       "    }\n",
       "\n",
       "    .dataframe thead th {\n",
       "        text-align: right;\n",
       "    }\n",
       "</style>\n",
       "<table border=\"1\" class=\"dataframe\">\n",
       "  <thead>\n",
       "    <tr style=\"text-align: right;\">\n",
       "      <th></th>\n",
       "      <th>nome</th>\n",
       "      <th>id_aluno</th>\n",
       "    </tr>\n",
       "  </thead>\n",
       "  <tbody>\n",
       "    <tr>\n",
       "      <th>0</th>\n",
       "      <td>MARIA</td>\n",
       "      <td>235</td>\n",
       "    </tr>\n",
       "    <tr>\n",
       "      <th>1</th>\n",
       "      <td>ANA</td>\n",
       "      <td>43</td>\n",
       "    </tr>\n",
       "    <tr>\n",
       "      <th>2</th>\n",
       "      <td>FRANCISCA</td>\n",
       "      <td>304</td>\n",
       "    </tr>\n",
       "    <tr>\n",
       "      <th>3</th>\n",
       "      <td>ANTONIA</td>\n",
       "      <td>156</td>\n",
       "    </tr>\n",
       "    <tr>\n",
       "      <th>4</th>\n",
       "      <td>ADRIANA</td>\n",
       "      <td>343</td>\n",
       "    </tr>\n",
       "    <tr>\n",
       "      <th>...</th>\n",
       "      <td>...</td>\n",
       "      <td>...</td>\n",
       "    </tr>\n",
       "    <tr>\n",
       "      <th>195</th>\n",
       "      <td>WALTER</td>\n",
       "      <td>231</td>\n",
       "    </tr>\n",
       "    <tr>\n",
       "      <th>196</th>\n",
       "      <td>ARLINDO</td>\n",
       "      <td>99</td>\n",
       "    </tr>\n",
       "    <tr>\n",
       "      <th>197</th>\n",
       "      <td>MICHAEL</td>\n",
       "      <td>323</td>\n",
       "    </tr>\n",
       "    <tr>\n",
       "      <th>198</th>\n",
       "      <td>ALVARO</td>\n",
       "      <td>383</td>\n",
       "    </tr>\n",
       "    <tr>\n",
       "      <th>199</th>\n",
       "      <td>GEOVANE</td>\n",
       "      <td>366</td>\n",
       "    </tr>\n",
       "  </tbody>\n",
       "</table>\n",
       "<p>400 rows × 2 columns</p>\n",
       "</div>"
      ],
      "text/plain": [
       "          nome  id_aluno\n",
       "0        MARIA       235\n",
       "1          ANA        43\n",
       "2    FRANCISCA       304\n",
       "3      ANTONIA       156\n",
       "4      ADRIANA       343\n",
       "..         ...       ...\n",
       "195     WALTER       231\n",
       "196    ARLINDO        99\n",
       "197    MICHAEL       323\n",
       "198     ALVARO       383\n",
       "199    GEOVANE       366\n",
       "\n",
       "[400 rows x 2 columns]"
      ]
     },
     "execution_count": 12,
     "metadata": {},
     "output_type": "execute_result"
    }
   ],
   "source": [
    "nomes"
   ]
  },
  {
   "cell_type": "code",
   "execution_count": 13,
   "metadata": {
    "executionInfo": {
     "elapsed": 3736,
     "status": "ok",
     "timestamp": 1617294722045,
     "user": {
      "displayName": "Diego Cowen",
      "photoUrl": "https://lh3.googleusercontent.com/a-/AOh14GjO8mnfw734D_zId9Pb9H0btm46gyaEIHLqs5w0-g=s64",
      "userId": "00433632151485364739"
     },
     "user_tz": 180
    },
    "id": "Kkkau3dBRTFb"
   },
   "outputs": [],
   "source": [
    "dominios = ['@dominiodoemail.com.br', '@servicodoemail.com']\n",
    "nomes['dominio'] = np.random.choice(dominios, total_alunos) "
   ]
  },
  {
   "cell_type": "code",
   "execution_count": 14,
   "metadata": {
    "executionInfo": {
     "elapsed": 3735,
     "status": "ok",
     "timestamp": 1617294722047,
     "user": {
      "displayName": "Diego Cowen",
      "photoUrl": "https://lh3.googleusercontent.com/a-/AOh14GjO8mnfw734D_zId9Pb9H0btm46gyaEIHLqs5w0-g=s64",
      "userId": "00433632151485364739"
     },
     "user_tz": 180
    },
    "id": "5Unel68XSzl-"
   },
   "outputs": [],
   "source": [
    "nomes['email'] = nomes.nome.str.cat(nomes.dominio).str.lower()"
   ]
  },
  {
   "cell_type": "code",
   "execution_count": 15,
   "metadata": {
    "colab": {
     "base_uri": "https://localhost:8080/",
     "height": 204
    },
    "executionInfo": {
     "elapsed": 3726,
     "status": "ok",
     "timestamp": 1617294722049,
     "user": {
      "displayName": "Diego Cowen",
      "photoUrl": "https://lh3.googleusercontent.com/a-/AOh14GjO8mnfw734D_zId9Pb9H0btm46gyaEIHLqs5w0-g=s64",
      "userId": "00433632151485364739"
     },
     "user_tz": 180
    },
    "id": "5MB7MLb8S9zL",
    "outputId": "58e114d6-d135-483b-e411-a19e5e259a9d"
   },
   "outputs": [
    {
     "data": {
      "text/html": [
       "<div>\n",
       "<style scoped>\n",
       "    .dataframe tbody tr th:only-of-type {\n",
       "        vertical-align: middle;\n",
       "    }\n",
       "\n",
       "    .dataframe tbody tr th {\n",
       "        vertical-align: top;\n",
       "    }\n",
       "\n",
       "    .dataframe thead th {\n",
       "        text-align: right;\n",
       "    }\n",
       "</style>\n",
       "<table border=\"1\" class=\"dataframe\">\n",
       "  <thead>\n",
       "    <tr style=\"text-align: right;\">\n",
       "      <th></th>\n",
       "      <th>nome</th>\n",
       "      <th>id_aluno</th>\n",
       "      <th>dominio</th>\n",
       "      <th>email</th>\n",
       "    </tr>\n",
       "  </thead>\n",
       "  <tbody>\n",
       "    <tr>\n",
       "      <th>46</th>\n",
       "      <td>FABIANA</td>\n",
       "      <td>358</td>\n",
       "      <td>@servicodoemail.com</td>\n",
       "      <td>fabiana@servicodoemail.com</td>\n",
       "    </tr>\n",
       "    <tr>\n",
       "      <th>38</th>\n",
       "      <td>DIEGO</td>\n",
       "      <td>294</td>\n",
       "      <td>@dominiodoemail.com.br</td>\n",
       "      <td>diego@dominiodoemail.com.br</td>\n",
       "    </tr>\n",
       "    <tr>\n",
       "      <th>136</th>\n",
       "      <td>NILTON</td>\n",
       "      <td>271</td>\n",
       "      <td>@dominiodoemail.com.br</td>\n",
       "      <td>nilton@dominiodoemail.com.br</td>\n",
       "    </tr>\n",
       "    <tr>\n",
       "      <th>119</th>\n",
       "      <td>MOISES</td>\n",
       "      <td>4</td>\n",
       "      <td>@servicodoemail.com</td>\n",
       "      <td>moises@servicodoemail.com</td>\n",
       "    </tr>\n",
       "    <tr>\n",
       "      <th>101</th>\n",
       "      <td>GISELE</td>\n",
       "      <td>298</td>\n",
       "      <td>@servicodoemail.com</td>\n",
       "      <td>gisele@servicodoemail.com</td>\n",
       "    </tr>\n",
       "  </tbody>\n",
       "</table>\n",
       "</div>"
      ],
      "text/plain": [
       "        nome  id_aluno                 dominio                         email\n",
       "46   FABIANA       358     @servicodoemail.com    fabiana@servicodoemail.com\n",
       "38     DIEGO       294  @dominiodoemail.com.br   diego@dominiodoemail.com.br\n",
       "136   NILTON       271  @dominiodoemail.com.br  nilton@dominiodoemail.com.br\n",
       "119   MOISES         4     @servicodoemail.com     moises@servicodoemail.com\n",
       "101   GISELE       298     @servicodoemail.com     gisele@servicodoemail.com"
      ]
     },
     "execution_count": 15,
     "metadata": {},
     "output_type": "execute_result"
    }
   ],
   "source": [
    "nomes.sample(5)"
   ]
  },
  {
   "cell_type": "markdown",
   "metadata": {
    "id": "YpTHXHhLLx9Q"
   },
   "source": [
    "# Criando a tabela cursos"
   ]
  },
  {
   "cell_type": "code",
   "execution_count": 16,
   "metadata": {
    "colab": {
     "base_uri": "https://localhost:8080/"
    },
    "executionInfo": {
     "elapsed": 9765,
     "status": "ok",
     "timestamp": 1617294728098,
     "user": {
      "displayName": "Diego Cowen",
      "photoUrl": "https://lh3.googleusercontent.com/a-/AOh14GjO8mnfw734D_zId9Pb9H0btm46gyaEIHLqs5w0-g=s64",
      "userId": "00433632151485364739"
     },
     "user_tz": 180
    },
    "id": "NEHRumPtTvSs",
    "outputId": "269e0cf8-b50e-4667-cd94-6e5bdb69068f"
   },
   "outputs": [
    {
     "name": "stdout",
     "output_type": "stream",
     "text": [
      "Requirement already satisfied: html5lib in c:\\users\\dicow\\anaconda3\\lib\\site-packages (1.1)\n",
      "Requirement already satisfied: webencodings in c:\\users\\dicow\\anaconda3\\lib\\site-packages (from html5lib) (0.5.1)\n",
      "Requirement already satisfied: six>=1.9 in c:\\users\\dicow\\anaconda3\\lib\\site-packages (from html5lib) (1.15.0)\n",
      "Requirement already satisfied: lxml in c:\\users\\dicow\\anaconda3\\lib\\site-packages (4.6.1)\n"
     ]
    }
   ],
   "source": [
    "!pip3 install html5lib\n",
    "!pip3 install lxml"
   ]
  },
  {
   "cell_type": "code",
   "execution_count": 17,
   "metadata": {
    "executionInfo": {
     "elapsed": 9764,
     "status": "ok",
     "timestamp": 1617294728100,
     "user": {
      "displayName": "Diego Cowen",
      "photoUrl": "https://lh3.googleusercontent.com/a-/AOh14GjO8mnfw734D_zId9Pb9H0btm46gyaEIHLqs5w0-g=s64",
      "userId": "00433632151485364739"
     },
     "user_tz": 180
    },
    "id": "1QFgCvWoMtcB"
   },
   "outputs": [],
   "source": [
    "import html5lib"
   ]
  },
  {
   "cell_type": "code",
   "execution_count": 18,
   "metadata": {
    "colab": {
     "base_uri": "https://localhost:8080/"
    },
    "executionInfo": {
     "elapsed": 9759,
     "status": "ok",
     "timestamp": 1617294728102,
     "user": {
      "displayName": "Diego Cowen",
      "photoUrl": "https://lh3.googleusercontent.com/a-/AOh14GjO8mnfw734D_zId9Pb9H0btm46gyaEIHLqs5w0-g=s64",
      "userId": "00433632151485364739"
     },
     "user_tz": 180
    },
    "id": "X5qJAwzZM5Bm",
    "outputId": "b9f6261c-9e51-4fa8-add0-a9dc12d0f488"
   },
   "outputs": [
    {
     "data": {
      "text/plain": [
       "[                          Nome do curso\n",
       " 0                 Lógica de programação\n",
       " 1                         Java para Web\n",
       " 2                           C# para Web\n",
       " 3                         Ruby on Rails\n",
       " 4                      Cursos de Python\n",
       " 5                         PHP com MySql\n",
       " 6                         .NET para web\n",
       " 7            Novas integrações com Java\n",
       " 8                          TDD com Java\n",
       " 9                   Código limpo com C#\n",
       " 10  Preparatório para certificação Java\n",
       " 11                      Hardware básico\n",
       " 12                Persistência com .NET\n",
       " 13                  Desenvolvendo jogos\n",
       " 14                     Análise de dados\n",
       " 15                   Estatística básica\n",
       " 16                  Internet das coisas\n",
       " 17                Programação funcional\n",
       " 18                Boas práticas em Java\n",
       " 19          Orientação objetos com Java]"
      ]
     },
     "execution_count": 18,
     "metadata": {},
     "output_type": "execute_result"
    }
   ],
   "source": [
    "url = 'http://tabela-cursos.herokuapp.com/index.html'\n",
    "cursos = pd.read_html(url)\n",
    "cursos"
   ]
  },
  {
   "cell_type": "code",
   "execution_count": 19,
   "metadata": {
    "executionInfo": {
     "elapsed": 9762,
     "status": "ok",
     "timestamp": 1617294728108,
     "user": {
      "displayName": "Diego Cowen",
      "photoUrl": "https://lh3.googleusercontent.com/a-/AOh14GjO8mnfw734D_zId9Pb9H0btm46gyaEIHLqs5w0-g=s64",
      "userId": "00433632151485364739"
     },
     "user_tz": 180
    },
    "id": "jyRt-3qiN7cu"
   },
   "outputs": [],
   "source": [
    "cursos = cursos[0]"
   ]
  },
  {
   "cell_type": "markdown",
   "metadata": {
    "id": "wi0mV755Q20b"
   },
   "source": [
    "# Alterando o Index de cursos"
   ]
  },
  {
   "cell_type": "code",
   "execution_count": 20,
   "metadata": {
    "executionInfo": {
     "elapsed": 9763,
     "status": "ok",
     "timestamp": 1617294728111,
     "user": {
      "displayName": "Diego Cowen",
      "photoUrl": "https://lh3.googleusercontent.com/a-/AOh14GjO8mnfw734D_zId9Pb9H0btm46gyaEIHLqs5w0-g=s64",
      "userId": "00433632151485364739"
     },
     "user_tz": 180
    },
    "id": "yz-k09VYN9QF"
   },
   "outputs": [],
   "source": [
    "cursos = cursos.rename(columns={'Nome do curso' : 'nome_do_curso'})"
   ]
  },
  {
   "cell_type": "code",
   "execution_count": 21,
   "metadata": {
    "executionInfo": {
     "elapsed": 9763,
     "status": "ok",
     "timestamp": 1617294728114,
     "user": {
      "displayName": "Diego Cowen",
      "photoUrl": "https://lh3.googleusercontent.com/a-/AOh14GjO8mnfw734D_zId9Pb9H0btm46gyaEIHLqs5w0-g=s64",
      "userId": "00433632151485364739"
     },
     "user_tz": 180
    },
    "id": "vhwdJ7xOSPLH"
   },
   "outputs": [],
   "source": [
    "cursos['id'] = cursos.index + 1"
   ]
  },
  {
   "cell_type": "code",
   "execution_count": 22,
   "metadata": {
    "colab": {
     "base_uri": "https://localhost:8080/",
     "height": 0
    },
    "executionInfo": {
     "elapsed": 9756,
     "status": "ok",
     "timestamp": 1617294728116,
     "user": {
      "displayName": "Diego Cowen",
      "photoUrl": "https://lh3.googleusercontent.com/a-/AOh14GjO8mnfw734D_zId9Pb9H0btm46gyaEIHLqs5w0-g=s64",
      "userId": "00433632151485364739"
     },
     "user_tz": 180
    },
    "id": "cjzRnShnSTkb",
    "outputId": "952efc9d-9803-4611-cf7b-5b94481a830b"
   },
   "outputs": [
    {
     "data": {
      "text/html": [
       "<div>\n",
       "<style scoped>\n",
       "    .dataframe tbody tr th:only-of-type {\n",
       "        vertical-align: middle;\n",
       "    }\n",
       "\n",
       "    .dataframe tbody tr th {\n",
       "        vertical-align: top;\n",
       "    }\n",
       "\n",
       "    .dataframe thead th {\n",
       "        text-align: right;\n",
       "    }\n",
       "</style>\n",
       "<table border=\"1\" class=\"dataframe\">\n",
       "  <thead>\n",
       "    <tr style=\"text-align: right;\">\n",
       "      <th></th>\n",
       "      <th>nome_do_curso</th>\n",
       "      <th>id</th>\n",
       "    </tr>\n",
       "  </thead>\n",
       "  <tbody>\n",
       "    <tr>\n",
       "      <th>0</th>\n",
       "      <td>Lógica de programação</td>\n",
       "      <td>1</td>\n",
       "    </tr>\n",
       "    <tr>\n",
       "      <th>1</th>\n",
       "      <td>Java para Web</td>\n",
       "      <td>2</td>\n",
       "    </tr>\n",
       "    <tr>\n",
       "      <th>2</th>\n",
       "      <td>C# para Web</td>\n",
       "      <td>3</td>\n",
       "    </tr>\n",
       "    <tr>\n",
       "      <th>3</th>\n",
       "      <td>Ruby on Rails</td>\n",
       "      <td>4</td>\n",
       "    </tr>\n",
       "    <tr>\n",
       "      <th>4</th>\n",
       "      <td>Cursos de Python</td>\n",
       "      <td>5</td>\n",
       "    </tr>\n",
       "    <tr>\n",
       "      <th>5</th>\n",
       "      <td>PHP com MySql</td>\n",
       "      <td>6</td>\n",
       "    </tr>\n",
       "    <tr>\n",
       "      <th>6</th>\n",
       "      <td>.NET para web</td>\n",
       "      <td>7</td>\n",
       "    </tr>\n",
       "    <tr>\n",
       "      <th>7</th>\n",
       "      <td>Novas integrações com Java</td>\n",
       "      <td>8</td>\n",
       "    </tr>\n",
       "    <tr>\n",
       "      <th>8</th>\n",
       "      <td>TDD com Java</td>\n",
       "      <td>9</td>\n",
       "    </tr>\n",
       "    <tr>\n",
       "      <th>9</th>\n",
       "      <td>Código limpo com C#</td>\n",
       "      <td>10</td>\n",
       "    </tr>\n",
       "    <tr>\n",
       "      <th>10</th>\n",
       "      <td>Preparatório para certificação Java</td>\n",
       "      <td>11</td>\n",
       "    </tr>\n",
       "    <tr>\n",
       "      <th>11</th>\n",
       "      <td>Hardware básico</td>\n",
       "      <td>12</td>\n",
       "    </tr>\n",
       "    <tr>\n",
       "      <th>12</th>\n",
       "      <td>Persistência com .NET</td>\n",
       "      <td>13</td>\n",
       "    </tr>\n",
       "    <tr>\n",
       "      <th>13</th>\n",
       "      <td>Desenvolvendo jogos</td>\n",
       "      <td>14</td>\n",
       "    </tr>\n",
       "    <tr>\n",
       "      <th>14</th>\n",
       "      <td>Análise de dados</td>\n",
       "      <td>15</td>\n",
       "    </tr>\n",
       "    <tr>\n",
       "      <th>15</th>\n",
       "      <td>Estatística básica</td>\n",
       "      <td>16</td>\n",
       "    </tr>\n",
       "    <tr>\n",
       "      <th>16</th>\n",
       "      <td>Internet das coisas</td>\n",
       "      <td>17</td>\n",
       "    </tr>\n",
       "    <tr>\n",
       "      <th>17</th>\n",
       "      <td>Programação funcional</td>\n",
       "      <td>18</td>\n",
       "    </tr>\n",
       "    <tr>\n",
       "      <th>18</th>\n",
       "      <td>Boas práticas em Java</td>\n",
       "      <td>19</td>\n",
       "    </tr>\n",
       "    <tr>\n",
       "      <th>19</th>\n",
       "      <td>Orientação objetos com Java</td>\n",
       "      <td>20</td>\n",
       "    </tr>\n",
       "  </tbody>\n",
       "</table>\n",
       "</div>"
      ],
      "text/plain": [
       "                          nome_do_curso  id\n",
       "0                 Lógica de programação   1\n",
       "1                         Java para Web   2\n",
       "2                           C# para Web   3\n",
       "3                         Ruby on Rails   4\n",
       "4                      Cursos de Python   5\n",
       "5                         PHP com MySql   6\n",
       "6                         .NET para web   7\n",
       "7            Novas integrações com Java   8\n",
       "8                          TDD com Java   9\n",
       "9                   Código limpo com C#  10\n",
       "10  Preparatório para certificação Java  11\n",
       "11                      Hardware básico  12\n",
       "12                Persistência com .NET  13\n",
       "13                  Desenvolvendo jogos  14\n",
       "14                     Análise de dados  15\n",
       "15                   Estatística básica  16\n",
       "16                  Internet das coisas  17\n",
       "17                Programação funcional  18\n",
       "18                Boas práticas em Java  19\n",
       "19          Orientação objetos com Java  20"
      ]
     },
     "execution_count": 22,
     "metadata": {},
     "output_type": "execute_result"
    }
   ],
   "source": [
    "cursos"
   ]
  },
  {
   "cell_type": "code",
   "execution_count": 23,
   "metadata": {
    "executionInfo": {
     "elapsed": 9754,
     "status": "ok",
     "timestamp": 1617294728118,
     "user": {
      "displayName": "Diego Cowen",
      "photoUrl": "https://lh3.googleusercontent.com/a-/AOh14GjO8mnfw734D_zId9Pb9H0btm46gyaEIHLqs5w0-g=s64",
      "userId": "00433632151485364739"
     },
     "user_tz": 180
    },
    "id": "pGLzWhvjSUsG"
   },
   "outputs": [],
   "source": [
    "cursos = cursos.set_index('id')"
   ]
  },
  {
   "cell_type": "code",
   "execution_count": 24,
   "metadata": {
    "colab": {
     "base_uri": "https://localhost:8080/",
     "height": 0
    },
    "executionInfo": {
     "elapsed": 9752,
     "status": "ok",
     "timestamp": 1617294728124,
     "user": {
      "displayName": "Diego Cowen",
      "photoUrl": "https://lh3.googleusercontent.com/a-/AOh14GjO8mnfw734D_zId9Pb9H0btm46gyaEIHLqs5w0-g=s64",
      "userId": "00433632151485364739"
     },
     "user_tz": 180
    },
    "id": "8YBGH4CaSypR",
    "outputId": "7dc757b5-8380-4057-dced-60d9e21ec0b4"
   },
   "outputs": [
    {
     "data": {
      "text/html": [
       "<div>\n",
       "<style scoped>\n",
       "    .dataframe tbody tr th:only-of-type {\n",
       "        vertical-align: middle;\n",
       "    }\n",
       "\n",
       "    .dataframe tbody tr th {\n",
       "        vertical-align: top;\n",
       "    }\n",
       "\n",
       "    .dataframe thead th {\n",
       "        text-align: right;\n",
       "    }\n",
       "</style>\n",
       "<table border=\"1\" class=\"dataframe\">\n",
       "  <thead>\n",
       "    <tr style=\"text-align: right;\">\n",
       "      <th></th>\n",
       "      <th>nome_do_curso</th>\n",
       "    </tr>\n",
       "    <tr>\n",
       "      <th>id</th>\n",
       "      <th></th>\n",
       "    </tr>\n",
       "  </thead>\n",
       "  <tbody>\n",
       "    <tr>\n",
       "      <th>1</th>\n",
       "      <td>Lógica de programação</td>\n",
       "    </tr>\n",
       "    <tr>\n",
       "      <th>2</th>\n",
       "      <td>Java para Web</td>\n",
       "    </tr>\n",
       "    <tr>\n",
       "      <th>3</th>\n",
       "      <td>C# para Web</td>\n",
       "    </tr>\n",
       "    <tr>\n",
       "      <th>4</th>\n",
       "      <td>Ruby on Rails</td>\n",
       "    </tr>\n",
       "    <tr>\n",
       "      <th>5</th>\n",
       "      <td>Cursos de Python</td>\n",
       "    </tr>\n",
       "    <tr>\n",
       "      <th>6</th>\n",
       "      <td>PHP com MySql</td>\n",
       "    </tr>\n",
       "    <tr>\n",
       "      <th>7</th>\n",
       "      <td>.NET para web</td>\n",
       "    </tr>\n",
       "    <tr>\n",
       "      <th>8</th>\n",
       "      <td>Novas integrações com Java</td>\n",
       "    </tr>\n",
       "    <tr>\n",
       "      <th>9</th>\n",
       "      <td>TDD com Java</td>\n",
       "    </tr>\n",
       "    <tr>\n",
       "      <th>10</th>\n",
       "      <td>Código limpo com C#</td>\n",
       "    </tr>\n",
       "    <tr>\n",
       "      <th>11</th>\n",
       "      <td>Preparatório para certificação Java</td>\n",
       "    </tr>\n",
       "    <tr>\n",
       "      <th>12</th>\n",
       "      <td>Hardware básico</td>\n",
       "    </tr>\n",
       "    <tr>\n",
       "      <th>13</th>\n",
       "      <td>Persistência com .NET</td>\n",
       "    </tr>\n",
       "    <tr>\n",
       "      <th>14</th>\n",
       "      <td>Desenvolvendo jogos</td>\n",
       "    </tr>\n",
       "    <tr>\n",
       "      <th>15</th>\n",
       "      <td>Análise de dados</td>\n",
       "    </tr>\n",
       "    <tr>\n",
       "      <th>16</th>\n",
       "      <td>Estatística básica</td>\n",
       "    </tr>\n",
       "    <tr>\n",
       "      <th>17</th>\n",
       "      <td>Internet das coisas</td>\n",
       "    </tr>\n",
       "    <tr>\n",
       "      <th>18</th>\n",
       "      <td>Programação funcional</td>\n",
       "    </tr>\n",
       "    <tr>\n",
       "      <th>19</th>\n",
       "      <td>Boas práticas em Java</td>\n",
       "    </tr>\n",
       "    <tr>\n",
       "      <th>20</th>\n",
       "      <td>Orientação objetos com Java</td>\n",
       "    </tr>\n",
       "  </tbody>\n",
       "</table>\n",
       "</div>"
      ],
      "text/plain": [
       "                          nome_do_curso\n",
       "id                                     \n",
       "1                 Lógica de programação\n",
       "2                         Java para Web\n",
       "3                           C# para Web\n",
       "4                         Ruby on Rails\n",
       "5                      Cursos de Python\n",
       "6                         PHP com MySql\n",
       "7                         .NET para web\n",
       "8            Novas integrações com Java\n",
       "9                          TDD com Java\n",
       "10                  Código limpo com C#\n",
       "11  Preparatório para certificação Java\n",
       "12                      Hardware básico\n",
       "13                Persistência com .NET\n",
       "14                  Desenvolvendo jogos\n",
       "15                     Análise de dados\n",
       "16                   Estatística básica\n",
       "17                  Internet das coisas\n",
       "18                Programação funcional\n",
       "19                Boas práticas em Java\n",
       "20          Orientação objetos com Java"
      ]
     },
     "execution_count": 24,
     "metadata": {},
     "output_type": "execute_result"
    }
   ],
   "source": [
    "cursos"
   ]
  },
  {
   "cell_type": "code",
   "execution_count": null,
   "metadata": {
    "executionInfo": {
     "elapsed": 9749,
     "status": "ok",
     "timestamp": 1617294728126,
     "user": {
      "displayName": "Diego Cowen",
      "photoUrl": "https://lh3.googleusercontent.com/a-/AOh14GjO8mnfw734D_zId9Pb9H0btm46gyaEIHLqs5w0-g=s64",
      "userId": "00433632151485364739"
     },
     "user_tz": 180
    },
    "id": "DzNOFcWnSzvW"
   },
   "outputs": [],
   "source": []
  },
  {
   "cell_type": "markdown",
   "metadata": {
    "id": "DSaJo8UGZ2Qu"
   },
   "source": [
    "# Matriculando os alunos nos cursos"
   ]
  },
  {
   "cell_type": "code",
   "execution_count": 25,
   "metadata": {
    "executionInfo": {
     "elapsed": 9749,
     "status": "ok",
     "timestamp": 1617294728129,
     "user": {
      "displayName": "Diego Cowen",
      "photoUrl": "https://lh3.googleusercontent.com/a-/AOh14GjO8mnfw734D_zId9Pb9H0btm46gyaEIHLqs5w0-g=s64",
      "userId": "00433632151485364739"
     },
     "user_tz": 180
    },
    "id": "JAdYo2FKZ9A-"
   },
   "outputs": [],
   "source": [
    "nomes['matriculas'] = np.ceil(np.random.exponential(size = total_alunos) * 1.5).astype(int)"
   ]
  },
  {
   "cell_type": "code",
   "execution_count": 26,
   "metadata": {
    "colab": {
     "base_uri": "https://localhost:8080/",
     "height": 0
    },
    "executionInfo": {
     "elapsed": 9747,
     "status": "ok",
     "timestamp": 1617294728133,
     "user": {
      "displayName": "Diego Cowen",
      "photoUrl": "https://lh3.googleusercontent.com/a-/AOh14GjO8mnfw734D_zId9Pb9H0btm46gyaEIHLqs5w0-g=s64",
      "userId": "00433632151485364739"
     },
     "user_tz": 180
    },
    "id": "l318socAavEP",
    "outputId": "8a12eb5f-3502-42b4-a104-540669dc7cfa"
   },
   "outputs": [
    {
     "data": {
      "text/html": [
       "<div>\n",
       "<style scoped>\n",
       "    .dataframe tbody tr th:only-of-type {\n",
       "        vertical-align: middle;\n",
       "    }\n",
       "\n",
       "    .dataframe tbody tr th {\n",
       "        vertical-align: top;\n",
       "    }\n",
       "\n",
       "    .dataframe thead th {\n",
       "        text-align: right;\n",
       "    }\n",
       "</style>\n",
       "<table border=\"1\" class=\"dataframe\">\n",
       "  <thead>\n",
       "    <tr style=\"text-align: right;\">\n",
       "      <th></th>\n",
       "      <th>nome</th>\n",
       "      <th>id_aluno</th>\n",
       "      <th>dominio</th>\n",
       "      <th>email</th>\n",
       "      <th>matriculas</th>\n",
       "    </tr>\n",
       "  </thead>\n",
       "  <tbody>\n",
       "    <tr>\n",
       "      <th>0</th>\n",
       "      <td>MARIA</td>\n",
       "      <td>235</td>\n",
       "      <td>@dominiodoemail.com.br</td>\n",
       "      <td>maria@dominiodoemail.com.br</td>\n",
       "      <td>1</td>\n",
       "    </tr>\n",
       "    <tr>\n",
       "      <th>1</th>\n",
       "      <td>ANA</td>\n",
       "      <td>43</td>\n",
       "      <td>@servicodoemail.com</td>\n",
       "      <td>ana@servicodoemail.com</td>\n",
       "      <td>4</td>\n",
       "    </tr>\n",
       "    <tr>\n",
       "      <th>2</th>\n",
       "      <td>FRANCISCA</td>\n",
       "      <td>304</td>\n",
       "      <td>@servicodoemail.com</td>\n",
       "      <td>francisca@servicodoemail.com</td>\n",
       "      <td>5</td>\n",
       "    </tr>\n",
       "    <tr>\n",
       "      <th>3</th>\n",
       "      <td>ANTONIA</td>\n",
       "      <td>156</td>\n",
       "      <td>@servicodoemail.com</td>\n",
       "      <td>antonia@servicodoemail.com</td>\n",
       "      <td>3</td>\n",
       "    </tr>\n",
       "    <tr>\n",
       "      <th>4</th>\n",
       "      <td>ADRIANA</td>\n",
       "      <td>343</td>\n",
       "      <td>@servicodoemail.com</td>\n",
       "      <td>adriana@servicodoemail.com</td>\n",
       "      <td>1</td>\n",
       "    </tr>\n",
       "    <tr>\n",
       "      <th>...</th>\n",
       "      <td>...</td>\n",
       "      <td>...</td>\n",
       "      <td>...</td>\n",
       "      <td>...</td>\n",
       "      <td>...</td>\n",
       "    </tr>\n",
       "    <tr>\n",
       "      <th>195</th>\n",
       "      <td>WALTER</td>\n",
       "      <td>231</td>\n",
       "      <td>@dominiodoemail.com.br</td>\n",
       "      <td>walter@dominiodoemail.com.br</td>\n",
       "      <td>1</td>\n",
       "    </tr>\n",
       "    <tr>\n",
       "      <th>196</th>\n",
       "      <td>ARLINDO</td>\n",
       "      <td>99</td>\n",
       "      <td>@servicodoemail.com</td>\n",
       "      <td>arlindo@servicodoemail.com</td>\n",
       "      <td>1</td>\n",
       "    </tr>\n",
       "    <tr>\n",
       "      <th>197</th>\n",
       "      <td>MICHAEL</td>\n",
       "      <td>323</td>\n",
       "      <td>@dominiodoemail.com.br</td>\n",
       "      <td>michael@dominiodoemail.com.br</td>\n",
       "      <td>1</td>\n",
       "    </tr>\n",
       "    <tr>\n",
       "      <th>198</th>\n",
       "      <td>ALVARO</td>\n",
       "      <td>383</td>\n",
       "      <td>@servicodoemail.com</td>\n",
       "      <td>alvaro@servicodoemail.com</td>\n",
       "      <td>1</td>\n",
       "    </tr>\n",
       "    <tr>\n",
       "      <th>199</th>\n",
       "      <td>GEOVANE</td>\n",
       "      <td>366</td>\n",
       "      <td>@servicodoemail.com</td>\n",
       "      <td>geovane@servicodoemail.com</td>\n",
       "      <td>1</td>\n",
       "    </tr>\n",
       "  </tbody>\n",
       "</table>\n",
       "<p>400 rows × 5 columns</p>\n",
       "</div>"
      ],
      "text/plain": [
       "          nome  id_aluno                 dominio  \\\n",
       "0        MARIA       235  @dominiodoemail.com.br   \n",
       "1          ANA        43     @servicodoemail.com   \n",
       "2    FRANCISCA       304     @servicodoemail.com   \n",
       "3      ANTONIA       156     @servicodoemail.com   \n",
       "4      ADRIANA       343     @servicodoemail.com   \n",
       "..         ...       ...                     ...   \n",
       "195     WALTER       231  @dominiodoemail.com.br   \n",
       "196    ARLINDO        99     @servicodoemail.com   \n",
       "197    MICHAEL       323  @dominiodoemail.com.br   \n",
       "198     ALVARO       383     @servicodoemail.com   \n",
       "199    GEOVANE       366     @servicodoemail.com   \n",
       "\n",
       "                             email  matriculas  \n",
       "0      maria@dominiodoemail.com.br           1  \n",
       "1           ana@servicodoemail.com           4  \n",
       "2     francisca@servicodoemail.com           5  \n",
       "3       antonia@servicodoemail.com           3  \n",
       "4       adriana@servicodoemail.com           1  \n",
       "..                             ...         ...  \n",
       "195   walter@dominiodoemail.com.br           1  \n",
       "196     arlindo@servicodoemail.com           1  \n",
       "197  michael@dominiodoemail.com.br           1  \n",
       "198      alvaro@servicodoemail.com           1  \n",
       "199     geovane@servicodoemail.com           1  \n",
       "\n",
       "[400 rows x 5 columns]"
      ]
     },
     "execution_count": 26,
     "metadata": {},
     "output_type": "execute_result"
    }
   ],
   "source": [
    "nomes"
   ]
  },
  {
   "cell_type": "code",
   "execution_count": 27,
   "metadata": {
    "colab": {
     "base_uri": "https://localhost:8080/"
    },
    "executionInfo": {
     "elapsed": 10666,
     "status": "ok",
     "timestamp": 1617294729065,
     "user": {
      "displayName": "Diego Cowen",
      "photoUrl": "https://lh3.googleusercontent.com/a-/AOh14GjO8mnfw734D_zId9Pb9H0btm46gyaEIHLqs5w0-g=s64",
      "userId": "00433632151485364739"
     },
     "user_tz": 180
    },
    "id": "DITLD1ejftAg",
    "outputId": "d5517ec4-b2e9-4669-ddac-45dafe2e069f"
   },
   "outputs": [
    {
     "data": {
      "text/plain": [
       "count    400.000000\n",
       "mean       1.920000\n",
       "std        1.460799\n",
       "min        1.000000\n",
       "25%        1.000000\n",
       "50%        1.000000\n",
       "75%        2.000000\n",
       "max       10.000000\n",
       "Name: matriculas, dtype: float64"
      ]
     },
     "execution_count": 27,
     "metadata": {},
     "output_type": "execute_result"
    }
   ],
   "source": [
    "nomes.matriculas.describe()"
   ]
  },
  {
   "cell_type": "code",
   "execution_count": 28,
   "metadata": {
    "executionInfo": {
     "elapsed": 10666,
     "status": "ok",
     "timestamp": 1617294729068,
     "user": {
      "displayName": "Diego Cowen",
      "photoUrl": "https://lh3.googleusercontent.com/a-/AOh14GjO8mnfw734D_zId9Pb9H0btm46gyaEIHLqs5w0-g=s64",
      "userId": "00433632151485364739"
     },
     "user_tz": 180
    },
    "id": "ihj7BCssav_W"
   },
   "outputs": [],
   "source": [
    "import seaborn as sns"
   ]
  },
  {
   "cell_type": "code",
   "execution_count": 29,
   "metadata": {
    "colab": {
     "base_uri": "https://localhost:8080/",
     "height": 0
    },
    "executionInfo": {
     "elapsed": 10662,
     "status": "ok",
     "timestamp": 1617294729072,
     "user": {
      "displayName": "Diego Cowen",
      "photoUrl": "https://lh3.googleusercontent.com/a-/AOh14GjO8mnfw734D_zId9Pb9H0btm46gyaEIHLqs5w0-g=s64",
      "userId": "00433632151485364739"
     },
     "user_tz": 180
    },
    "id": "ghg9IYgGf1DW",
    "outputId": "58387923-9ce6-4f4c-ed8e-1f3411a5cbfa"
   },
   "outputs": [
    {
     "data": {
      "text/plain": [
       "<seaborn.axisgrid.FacetGrid at 0x23b864d1bb0>"
      ]
     },
     "execution_count": 29,
     "metadata": {},
     "output_type": "execute_result"
    },
    {
     "data": {
      "image/png": "[encoded data removed]",
      "text/plain": [
       "<Figure size 360x360 with 1 Axes>"
      ]
     },
     "metadata": {
      "needs_background": "light"
     },
     "output_type": "display_data"
    }
   ],
   "source": [
    "sns.displot(nomes.matriculas)"
   ]
  },
  {
   "cell_type": "code",
   "execution_count": 30,
   "metadata": {
    "colab": {
     "base_uri": "https://localhost:8080/"
    },
    "executionInfo": {
     "elapsed": 10657,
     "status": "ok",
     "timestamp": 1617294729075,
     "user": {
      "displayName": "Diego Cowen",
      "photoUrl": "https://lh3.googleusercontent.com/a-/AOh14GjO8mnfw734D_zId9Pb9H0btm46gyaEIHLqs5w0-g=s64",
      "userId": "00433632151485364739"
     },
     "user_tz": 180
    },
    "id": "PzocJQDVf6_H",
    "outputId": "18591b1a-ef93-46a8-f9ff-f84f6628fe0e"
   },
   "outputs": [
    {
     "data": {
      "text/plain": [
       "1     220\n",
       "2      96\n",
       "3      37\n",
       "4      22\n",
       "5      10\n",
       "6       7\n",
       "8       4\n",
       "7       2\n",
       "10      1\n",
       "9       1\n",
       "Name: matriculas, dtype: int64"
      ]
     },
     "execution_count": 30,
     "metadata": {},
     "output_type": "execute_result"
    }
   ],
   "source": [
    "nomes.matriculas.value_counts()"
   ]
  },
  {
   "cell_type": "markdown",
   "metadata": {
    "id": "pELAof-F6TAz"
   },
   "source": [
    "# Selecionando Cursos"
   ]
  },
  {
   "cell_type": "code",
   "execution_count": 31,
   "metadata": {
    "colab": {
     "base_uri": "https://localhost:8080/",
     "height": 0
    },
    "executionInfo": {
     "elapsed": 10649,
     "status": "ok",
     "timestamp": 1617294729076,
     "user": {
      "displayName": "Diego Cowen",
      "photoUrl": "https://lh3.googleusercontent.com/a-/AOh14GjO8mnfw734D_zId9Pb9H0btm46gyaEIHLqs5w0-g=s64",
      "userId": "00433632151485364739"
     },
     "user_tz": 180
    },
    "id": "R4__XIvegRRX",
    "outputId": "b09eeaa7-a14a-44b1-e0fb-7b57c77f8690"
   },
   "outputs": [
    {
     "data": {
      "text/html": [
       "<div>\n",
       "<style scoped>\n",
       "    .dataframe tbody tr th:only-of-type {\n",
       "        vertical-align: middle;\n",
       "    }\n",
       "\n",
       "    .dataframe tbody tr th {\n",
       "        vertical-align: top;\n",
       "    }\n",
       "\n",
       "    .dataframe thead th {\n",
       "        text-align: right;\n",
       "    }\n",
       "</style>\n",
       "<table border=\"1\" class=\"dataframe\">\n",
       "  <thead>\n",
       "    <tr style=\"text-align: right;\">\n",
       "      <th></th>\n",
       "      <th>nome</th>\n",
       "      <th>id_aluno</th>\n",
       "      <th>dominio</th>\n",
       "      <th>email</th>\n",
       "      <th>matriculas</th>\n",
       "    </tr>\n",
       "  </thead>\n",
       "  <tbody>\n",
       "    <tr>\n",
       "      <th>153</th>\n",
       "      <td>CAUA</td>\n",
       "      <td>77</td>\n",
       "      <td>@servicodoemail.com</td>\n",
       "      <td>caua@servicodoemail.com</td>\n",
       "      <td>2</td>\n",
       "    </tr>\n",
       "    <tr>\n",
       "      <th>36</th>\n",
       "      <td>DEBORA</td>\n",
       "      <td>338</td>\n",
       "      <td>@dominiodoemail.com.br</td>\n",
       "      <td>debora@dominiodoemail.com.br</td>\n",
       "      <td>1</td>\n",
       "    </tr>\n",
       "    <tr>\n",
       "      <th>135</th>\n",
       "      <td>ROSILENE</td>\n",
       "      <td>387</td>\n",
       "      <td>@servicodoemail.com</td>\n",
       "      <td>rosilene@servicodoemail.com</td>\n",
       "      <td>2</td>\n",
       "    </tr>\n",
       "    <tr>\n",
       "      <th>176</th>\n",
       "      <td>CELIO</td>\n",
       "      <td>388</td>\n",
       "      <td>@servicodoemail.com</td>\n",
       "      <td>celio@servicodoemail.com</td>\n",
       "      <td>3</td>\n",
       "    </tr>\n",
       "    <tr>\n",
       "      <th>144</th>\n",
       "      <td>VINICIOS</td>\n",
       "      <td>147</td>\n",
       "      <td>@servicodoemail.com</td>\n",
       "      <td>vinicios@servicodoemail.com</td>\n",
       "      <td>1</td>\n",
       "    </tr>\n",
       "  </tbody>\n",
       "</table>\n",
       "</div>"
      ],
      "text/plain": [
       "         nome  id_aluno                 dominio                         email  \\\n",
       "153      CAUA        77     @servicodoemail.com       caua@servicodoemail.com   \n",
       "36     DEBORA       338  @dominiodoemail.com.br  debora@dominiodoemail.com.br   \n",
       "135  ROSILENE       387     @servicodoemail.com   rosilene@servicodoemail.com   \n",
       "176     CELIO       388     @servicodoemail.com      celio@servicodoemail.com   \n",
       "144  VINICIOS       147     @servicodoemail.com   vinicios@servicodoemail.com   \n",
       "\n",
       "     matriculas  \n",
       "153           2  \n",
       "36            1  \n",
       "135           2  \n",
       "176           3  \n",
       "144           1  "
      ]
     },
     "execution_count": 31,
     "metadata": {},
     "output_type": "execute_result"
    }
   ],
   "source": [
    "nomes.sample(5)"
   ]
  },
  {
   "cell_type": "code",
   "execution_count": 32,
   "metadata": {
    "executionInfo": {
     "elapsed": 10646,
     "status": "ok",
     "timestamp": 1617294729077,
     "user": {
      "displayName": "Diego Cowen",
      "photoUrl": "https://lh3.googleusercontent.com/a-/AOh14GjO8mnfw734D_zId9Pb9H0btm46gyaEIHLqs5w0-g=s64",
      "userId": "00433632151485364739"
     },
     "user_tz": 180
    },
    "id": "CYJ2Zp2Q6gt_"
   },
   "outputs": [],
   "source": [
    "todas_matriculas = []\n",
    "x = np.random.rand(20)\n",
    "prob = x / sum(x)\n",
    "\n",
    "for index, row in nomes.iterrows():\n",
    "  id = row.id_aluno\n",
    "  matriculas = row.matriculas\n",
    "  for i in range(matriculas):\n",
    "    mat = [id, np.random.choice(cursos.index, p = prob)]\n",
    "    todas_matriculas.append(mat)\n",
    "matriculas = pd.DataFrame(todas_matriculas, columns = ['id_aluno', 'id_curso'])"
   ]
  },
  {
   "cell_type": "code",
   "execution_count": 33,
   "metadata": {
    "colab": {
     "base_uri": "https://localhost:8080/",
     "height": 0
    },
    "executionInfo": {
     "elapsed": 10638,
     "status": "ok",
     "timestamp": 1617294729079,
     "user": {
      "displayName": "Diego Cowen",
      "photoUrl": "https://lh3.googleusercontent.com/a-/AOh14GjO8mnfw734D_zId9Pb9H0btm46gyaEIHLqs5w0-g=s64",
      "userId": "00433632151485364739"
     },
     "user_tz": 180
    },
    "id": "lpOHj1tXAXg3",
    "outputId": "559f9b27-6c6a-4312-8ad6-32dac86efa72"
   },
   "outputs": [
    {
     "data": {
      "text/html": [
       "<div>\n",
       "<style scoped>\n",
       "    .dataframe tbody tr th:only-of-type {\n",
       "        vertical-align: middle;\n",
       "    }\n",
       "\n",
       "    .dataframe tbody tr th {\n",
       "        vertical-align: top;\n",
       "    }\n",
       "\n",
       "    .dataframe thead th {\n",
       "        text-align: right;\n",
       "    }\n",
       "</style>\n",
       "<table border=\"1\" class=\"dataframe\">\n",
       "  <thead>\n",
       "    <tr style=\"text-align: right;\">\n",
       "      <th></th>\n",
       "      <th>id_aluno</th>\n",
       "      <th>id_curso</th>\n",
       "    </tr>\n",
       "  </thead>\n",
       "  <tbody>\n",
       "    <tr>\n",
       "      <th>0</th>\n",
       "      <td>235</td>\n",
       "      <td>13</td>\n",
       "    </tr>\n",
       "    <tr>\n",
       "      <th>1</th>\n",
       "      <td>43</td>\n",
       "      <td>4</td>\n",
       "    </tr>\n",
       "    <tr>\n",
       "      <th>2</th>\n",
       "      <td>43</td>\n",
       "      <td>4</td>\n",
       "    </tr>\n",
       "    <tr>\n",
       "      <th>3</th>\n",
       "      <td>43</td>\n",
       "      <td>4</td>\n",
       "    </tr>\n",
       "    <tr>\n",
       "      <th>4</th>\n",
       "      <td>43</td>\n",
       "      <td>10</td>\n",
       "    </tr>\n",
       "  </tbody>\n",
       "</table>\n",
       "</div>"
      ],
      "text/plain": [
       "   id_aluno  id_curso\n",
       "0       235        13\n",
       "1        43         4\n",
       "2        43         4\n",
       "3        43         4\n",
       "4        43        10"
      ]
     },
     "execution_count": 33,
     "metadata": {},
     "output_type": "execute_result"
    }
   ],
   "source": [
    "matriculas.head()"
   ]
  },
  {
   "cell_type": "code",
   "execution_count": 34,
   "metadata": {
    "colab": {
     "base_uri": "https://localhost:8080/",
     "height": 0
    },
    "executionInfo": {
     "elapsed": 10630,
     "status": "ok",
     "timestamp": 1617294729080,
     "user": {
      "displayName": "Diego Cowen",
      "photoUrl": "https://lh3.googleusercontent.com/a-/AOh14GjO8mnfw734D_zId9Pb9H0btm46gyaEIHLqs5w0-g=s64",
      "userId": "00433632151485364739"
     },
     "user_tz": 180
    },
    "id": "q6K2-s0xBTFW",
    "outputId": "3a8a09bf-aaa0-44b7-8a93-1bdf95349e02"
   },
   "outputs": [
    {
     "data": {
      "text/html": [
       "<div>\n",
       "<style scoped>\n",
       "    .dataframe tbody tr th:only-of-type {\n",
       "        vertical-align: middle;\n",
       "    }\n",
       "\n",
       "    .dataframe tbody tr th {\n",
       "        vertical-align: top;\n",
       "    }\n",
       "\n",
       "    .dataframe thead th {\n",
       "        text-align: right;\n",
       "    }\n",
       "</style>\n",
       "<table border=\"1\" class=\"dataframe\">\n",
       "  <thead>\n",
       "    <tr style=\"text-align: right;\">\n",
       "      <th></th>\n",
       "      <th>quantidade_de_alunos</th>\n",
       "      <th>nome_do_curso</th>\n",
       "    </tr>\n",
       "    <tr>\n",
       "      <th>id_curso</th>\n",
       "      <th></th>\n",
       "      <th></th>\n",
       "    </tr>\n",
       "  </thead>\n",
       "  <tbody>\n",
       "    <tr>\n",
       "      <th>1</th>\n",
       "      <td>51</td>\n",
       "      <td>Lógica de programação</td>\n",
       "    </tr>\n",
       "    <tr>\n",
       "      <th>2</th>\n",
       "      <td>30</td>\n",
       "      <td>Java para Web</td>\n",
       "    </tr>\n",
       "    <tr>\n",
       "      <th>3</th>\n",
       "      <td>63</td>\n",
       "      <td>C# para Web</td>\n",
       "    </tr>\n",
       "    <tr>\n",
       "      <th>4</th>\n",
       "      <td>89</td>\n",
       "      <td>Ruby on Rails</td>\n",
       "    </tr>\n",
       "    <tr>\n",
       "      <th>5</th>\n",
       "      <td>10</td>\n",
       "      <td>Cursos de Python</td>\n",
       "    </tr>\n",
       "    <tr>\n",
       "      <th>6</th>\n",
       "      <td>26</td>\n",
       "      <td>PHP com MySql</td>\n",
       "    </tr>\n",
       "    <tr>\n",
       "      <th>7</th>\n",
       "      <td>5</td>\n",
       "      <td>.NET para web</td>\n",
       "    </tr>\n",
       "    <tr>\n",
       "      <th>8</th>\n",
       "      <td>9</td>\n",
       "      <td>Novas integrações com Java</td>\n",
       "    </tr>\n",
       "    <tr>\n",
       "      <th>9</th>\n",
       "      <td>12</td>\n",
       "      <td>TDD com Java</td>\n",
       "    </tr>\n",
       "    <tr>\n",
       "      <th>10</th>\n",
       "      <td>42</td>\n",
       "      <td>Código limpo com C#</td>\n",
       "    </tr>\n",
       "    <tr>\n",
       "      <th>11</th>\n",
       "      <td>75</td>\n",
       "      <td>Preparatório para certificação Java</td>\n",
       "    </tr>\n",
       "    <tr>\n",
       "      <th>12</th>\n",
       "      <td>24</td>\n",
       "      <td>Hardware básico</td>\n",
       "    </tr>\n",
       "    <tr>\n",
       "      <th>13</th>\n",
       "      <td>48</td>\n",
       "      <td>Persistência com .NET</td>\n",
       "    </tr>\n",
       "    <tr>\n",
       "      <th>14</th>\n",
       "      <td>63</td>\n",
       "      <td>Desenvolvendo jogos</td>\n",
       "    </tr>\n",
       "    <tr>\n",
       "      <th>15</th>\n",
       "      <td>65</td>\n",
       "      <td>Análise de dados</td>\n",
       "    </tr>\n",
       "    <tr>\n",
       "      <th>16</th>\n",
       "      <td>4</td>\n",
       "      <td>Estatística básica</td>\n",
       "    </tr>\n",
       "    <tr>\n",
       "      <th>17</th>\n",
       "      <td>32</td>\n",
       "      <td>Internet das coisas</td>\n",
       "    </tr>\n",
       "    <tr>\n",
       "      <th>18</th>\n",
       "      <td>17</td>\n",
       "      <td>Programação funcional</td>\n",
       "    </tr>\n",
       "    <tr>\n",
       "      <th>19</th>\n",
       "      <td>25</td>\n",
       "      <td>Boas práticas em Java</td>\n",
       "    </tr>\n",
       "    <tr>\n",
       "      <th>20</th>\n",
       "      <td>78</td>\n",
       "      <td>Orientação objetos com Java</td>\n",
       "    </tr>\n",
       "  </tbody>\n",
       "</table>\n",
       "</div>"
      ],
      "text/plain": [
       "          quantidade_de_alunos                        nome_do_curso\n",
       "id_curso                                                           \n",
       "1                           51                Lógica de programação\n",
       "2                           30                        Java para Web\n",
       "3                           63                          C# para Web\n",
       "4                           89                        Ruby on Rails\n",
       "5                           10                     Cursos de Python\n",
       "6                           26                        PHP com MySql\n",
       "7                            5                        .NET para web\n",
       "8                            9           Novas integrações com Java\n",
       "9                           12                         TDD com Java\n",
       "10                          42                  Código limpo com C#\n",
       "11                          75  Preparatório para certificação Java\n",
       "12                          24                      Hardware básico\n",
       "13                          48                Persistência com .NET\n",
       "14                          63                  Desenvolvendo jogos\n",
       "15                          65                     Análise de dados\n",
       "16                           4                   Estatística básica\n",
       "17                          32                  Internet das coisas\n",
       "18                          17                Programação funcional\n",
       "19                          25                Boas práticas em Java\n",
       "20                          78          Orientação objetos com Java"
      ]
     },
     "execution_count": 34,
     "metadata": {},
     "output_type": "execute_result"
    }
   ],
   "source": [
    "matriculas.groupby('id_curso').count().join(cursos['nome_do_curso']).rename(columns = {'id_aluno' : 'quantidade_de_alunos'})"
   ]
  },
  {
   "cell_type": "code",
   "execution_count": 35,
   "metadata": {
    "colab": {
     "base_uri": "https://localhost:8080/",
     "height": 0
    },
    "executionInfo": {
     "elapsed": 10620,
     "status": "ok",
     "timestamp": 1617294729081,
     "user": {
      "displayName": "Diego Cowen",
      "photoUrl": "https://lh3.googleusercontent.com/a-/AOh14GjO8mnfw734D_zId9Pb9H0btm46gyaEIHLqs5w0-g=s64",
      "userId": "00433632151485364739"
     },
     "user_tz": 180
    },
    "id": "bIkbGt5UCZrh",
    "outputId": "4fbd0536-083f-43af-b9f1-2548a6d197a9"
   },
   "outputs": [
    {
     "data": {
      "text/html": [
       "<div>\n",
       "<style scoped>\n",
       "    .dataframe tbody tr th:only-of-type {\n",
       "        vertical-align: middle;\n",
       "    }\n",
       "\n",
       "    .dataframe tbody tr th {\n",
       "        vertical-align: top;\n",
       "    }\n",
       "\n",
       "    .dataframe thead th {\n",
       "        text-align: right;\n",
       "    }\n",
       "</style>\n",
       "<table border=\"1\" class=\"dataframe\">\n",
       "  <thead>\n",
       "    <tr style=\"text-align: right;\">\n",
       "      <th></th>\n",
       "      <th>nome</th>\n",
       "      <th>id_aluno</th>\n",
       "      <th>dominio</th>\n",
       "      <th>email</th>\n",
       "      <th>matriculas</th>\n",
       "    </tr>\n",
       "  </thead>\n",
       "  <tbody>\n",
       "    <tr>\n",
       "      <th>128</th>\n",
       "      <td>JOICE</td>\n",
       "      <td>357</td>\n",
       "      <td>@servicodoemail.com</td>\n",
       "      <td>joice@servicodoemail.com</td>\n",
       "      <td>2</td>\n",
       "    </tr>\n",
       "    <tr>\n",
       "      <th>57</th>\n",
       "      <td>IGOR</td>\n",
       "      <td>345</td>\n",
       "      <td>@dominiodoemail.com.br</td>\n",
       "      <td>igor@dominiodoemail.com.br</td>\n",
       "      <td>2</td>\n",
       "    </tr>\n",
       "    <tr>\n",
       "      <th>15</th>\n",
       "      <td>LETICIA</td>\n",
       "      <td>347</td>\n",
       "      <td>@servicodoemail.com</td>\n",
       "      <td>leticia@servicodoemail.com</td>\n",
       "      <td>1</td>\n",
       "    </tr>\n",
       "    <tr>\n",
       "      <th>55</th>\n",
       "      <td>DANIELE</td>\n",
       "      <td>25</td>\n",
       "      <td>@dominiodoemail.com.br</td>\n",
       "      <td>daniele@dominiodoemail.com.br</td>\n",
       "      <td>2</td>\n",
       "    </tr>\n",
       "    <tr>\n",
       "      <th>168</th>\n",
       "      <td>IARA</td>\n",
       "      <td>82</td>\n",
       "      <td>@dominiodoemail.com.br</td>\n",
       "      <td>iara@dominiodoemail.com.br</td>\n",
       "      <td>4</td>\n",
       "    </tr>\n",
       "  </tbody>\n",
       "</table>\n",
       "</div>"
      ],
      "text/plain": [
       "        nome  id_aluno                 dominio                          email  \\\n",
       "128    JOICE       357     @servicodoemail.com       joice@servicodoemail.com   \n",
       "57      IGOR       345  @dominiodoemail.com.br     igor@dominiodoemail.com.br   \n",
       "15   LETICIA       347     @servicodoemail.com     leticia@servicodoemail.com   \n",
       "55   DANIELE        25  @dominiodoemail.com.br  daniele@dominiodoemail.com.br   \n",
       "168     IARA        82  @dominiodoemail.com.br     iara@dominiodoemail.com.br   \n",
       "\n",
       "     matriculas  \n",
       "128           2  \n",
       "57            2  \n",
       "15            1  \n",
       "55            2  \n",
       "168           4  "
      ]
     },
     "execution_count": 35,
     "metadata": {},
     "output_type": "execute_result"
    }
   ],
   "source": [
    "nomes.sample(5)"
   ]
  },
  {
   "cell_type": "code",
   "execution_count": 36,
   "metadata": {
    "colab": {
     "base_uri": "https://localhost:8080/",
     "height": 0
    },
    "executionInfo": {
     "elapsed": 10615,
     "status": "ok",
     "timestamp": 1617294729084,
     "user": {
      "displayName": "Diego Cowen",
      "photoUrl": "https://lh3.googleusercontent.com/a-/AOh14GjO8mnfw734D_zId9Pb9H0btm46gyaEIHLqs5w0-g=s64",
      "userId": "00433632151485364739"
     },
     "user_tz": 180
    },
    "id": "h_vsvMlUDpL_",
    "outputId": "acb3ac06-bacc-48e5-e6f6-030ab905ddea"
   },
   "outputs": [
    {
     "data": {
      "text/html": [
       "<div>\n",
       "<style scoped>\n",
       "    .dataframe tbody tr th:only-of-type {\n",
       "        vertical-align: middle;\n",
       "    }\n",
       "\n",
       "    .dataframe tbody tr th {\n",
       "        vertical-align: top;\n",
       "    }\n",
       "\n",
       "    .dataframe thead th {\n",
       "        text-align: right;\n",
       "    }\n",
       "</style>\n",
       "<table border=\"1\" class=\"dataframe\">\n",
       "  <thead>\n",
       "    <tr style=\"text-align: right;\">\n",
       "      <th></th>\n",
       "      <th>nome_do_curso</th>\n",
       "    </tr>\n",
       "    <tr>\n",
       "      <th>id</th>\n",
       "      <th></th>\n",
       "    </tr>\n",
       "  </thead>\n",
       "  <tbody>\n",
       "    <tr>\n",
       "      <th>1</th>\n",
       "      <td>Lógica de programação</td>\n",
       "    </tr>\n",
       "    <tr>\n",
       "      <th>2</th>\n",
       "      <td>Java para Web</td>\n",
       "    </tr>\n",
       "    <tr>\n",
       "      <th>3</th>\n",
       "      <td>C# para Web</td>\n",
       "    </tr>\n",
       "    <tr>\n",
       "      <th>4</th>\n",
       "      <td>Ruby on Rails</td>\n",
       "    </tr>\n",
       "    <tr>\n",
       "      <th>5</th>\n",
       "      <td>Cursos de Python</td>\n",
       "    </tr>\n",
       "  </tbody>\n",
       "</table>\n",
       "</div>"
      ],
      "text/plain": [
       "            nome_do_curso\n",
       "id                       \n",
       "1   Lógica de programação\n",
       "2           Java para Web\n",
       "3             C# para Web\n",
       "4           Ruby on Rails\n",
       "5        Cursos de Python"
      ]
     },
     "execution_count": 36,
     "metadata": {},
     "output_type": "execute_result"
    }
   ],
   "source": [
    "cursos.head()"
   ]
  },
  {
   "cell_type": "code",
   "execution_count": 37,
   "metadata": {
    "colab": {
     "base_uri": "https://localhost:8080/",
     "height": 0
    },
    "executionInfo": {
     "elapsed": 10606,
     "status": "ok",
     "timestamp": 1617294729086,
     "user": {
      "displayName": "Diego Cowen",
      "photoUrl": "https://lh3.googleusercontent.com/a-/AOh14GjO8mnfw734D_zId9Pb9H0btm46gyaEIHLqs5w0-g=s64",
      "userId": "00433632151485364739"
     },
     "user_tz": 180
    },
    "id": "JCLcqSuFDq92",
    "outputId": "1113bd94-d3e0-44f8-b00e-10389ac3a431"
   },
   "outputs": [
    {
     "data": {
      "text/html": [
       "<div>\n",
       "<style scoped>\n",
       "    .dataframe tbody tr th:only-of-type {\n",
       "        vertical-align: middle;\n",
       "    }\n",
       "\n",
       "    .dataframe tbody tr th {\n",
       "        vertical-align: top;\n",
       "    }\n",
       "\n",
       "    .dataframe thead th {\n",
       "        text-align: right;\n",
       "    }\n",
       "</style>\n",
       "<table border=\"1\" class=\"dataframe\">\n",
       "  <thead>\n",
       "    <tr style=\"text-align: right;\">\n",
       "      <th></th>\n",
       "      <th>id_aluno</th>\n",
       "      <th>id_curso</th>\n",
       "    </tr>\n",
       "  </thead>\n",
       "  <tbody>\n",
       "    <tr>\n",
       "      <th>0</th>\n",
       "      <td>235</td>\n",
       "      <td>13</td>\n",
       "    </tr>\n",
       "    <tr>\n",
       "      <th>1</th>\n",
       "      <td>43</td>\n",
       "      <td>4</td>\n",
       "    </tr>\n",
       "    <tr>\n",
       "      <th>2</th>\n",
       "      <td>43</td>\n",
       "      <td>4</td>\n",
       "    </tr>\n",
       "    <tr>\n",
       "      <th>3</th>\n",
       "      <td>43</td>\n",
       "      <td>4</td>\n",
       "    </tr>\n",
       "    <tr>\n",
       "      <th>4</th>\n",
       "      <td>43</td>\n",
       "      <td>10</td>\n",
       "    </tr>\n",
       "  </tbody>\n",
       "</table>\n",
       "</div>"
      ],
      "text/plain": [
       "   id_aluno  id_curso\n",
       "0       235        13\n",
       "1        43         4\n",
       "2        43         4\n",
       "3        43         4\n",
       "4        43        10"
      ]
     },
     "execution_count": 37,
     "metadata": {},
     "output_type": "execute_result"
    }
   ],
   "source": [
    "matriculas.head()"
   ]
  },
  {
   "cell_type": "code",
   "execution_count": 38,
   "metadata": {
    "executionInfo": {
     "elapsed": 10603,
     "status": "ok",
     "timestamp": 1617294729087,
     "user": {
      "displayName": "Diego Cowen",
      "photoUrl": "https://lh3.googleusercontent.com/a-/AOh14GjO8mnfw734D_zId9Pb9H0btm46gyaEIHLqs5w0-g=s64",
      "userId": "00433632151485364739"
     },
     "user_tz": 180
    },
    "id": "sdSf8HkoDyW9"
   },
   "outputs": [],
   "source": [
    "matriculas_por_curso = matriculas.groupby('id_curso').count().join(cursos['nome_do_curso']).rename(columns = {'id_aluno' : 'quantidade_de_alunos'})"
   ]
  },
  {
   "cell_type": "code",
   "execution_count": 39,
   "metadata": {
    "colab": {
     "base_uri": "https://localhost:8080/",
     "height": 0
    },
    "executionInfo": {
     "elapsed": 11841,
     "status": "ok",
     "timestamp": 1617294730333,
     "user": {
      "displayName": "Diego Cowen",
      "photoUrl": "https://lh3.googleusercontent.com/a-/AOh14GjO8mnfw734D_zId9Pb9H0btm46gyaEIHLqs5w0-g=s64",
      "userId": "00433632151485364739"
     },
     "user_tz": 180
    },
    "id": "ZFzZwy1iD-xI",
    "outputId": "0d580c97-e243-4127-f89f-cd68c55d7bcd"
   },
   "outputs": [
    {
     "data": {
      "text/html": [
       "<div>\n",
       "<style scoped>\n",
       "    .dataframe tbody tr th:only-of-type {\n",
       "        vertical-align: middle;\n",
       "    }\n",
       "\n",
       "    .dataframe tbody tr th {\n",
       "        vertical-align: top;\n",
       "    }\n",
       "\n",
       "    .dataframe thead th {\n",
       "        text-align: right;\n",
       "    }\n",
       "</style>\n",
       "<table border=\"1\" class=\"dataframe\">\n",
       "  <thead>\n",
       "    <tr style=\"text-align: right;\">\n",
       "      <th></th>\n",
       "      <th>quantidade_de_alunos</th>\n",
       "      <th>nome_do_curso</th>\n",
       "    </tr>\n",
       "    <tr>\n",
       "      <th>id_curso</th>\n",
       "      <th></th>\n",
       "      <th></th>\n",
       "    </tr>\n",
       "  </thead>\n",
       "  <tbody>\n",
       "    <tr>\n",
       "      <th>1</th>\n",
       "      <td>51</td>\n",
       "      <td>Lógica de programação</td>\n",
       "    </tr>\n",
       "    <tr>\n",
       "      <th>2</th>\n",
       "      <td>30</td>\n",
       "      <td>Java para Web</td>\n",
       "    </tr>\n",
       "    <tr>\n",
       "      <th>3</th>\n",
       "      <td>63</td>\n",
       "      <td>C# para Web</td>\n",
       "    </tr>\n",
       "    <tr>\n",
       "      <th>4</th>\n",
       "      <td>89</td>\n",
       "      <td>Ruby on Rails</td>\n",
       "    </tr>\n",
       "    <tr>\n",
       "      <th>5</th>\n",
       "      <td>10</td>\n",
       "      <td>Cursos de Python</td>\n",
       "    </tr>\n",
       "  </tbody>\n",
       "</table>\n",
       "</div>"
      ],
      "text/plain": [
       "          quantidade_de_alunos          nome_do_curso\n",
       "id_curso                                             \n",
       "1                           51  Lógica de programação\n",
       "2                           30          Java para Web\n",
       "3                           63            C# para Web\n",
       "4                           89          Ruby on Rails\n",
       "5                           10       Cursos de Python"
      ]
     },
     "execution_count": 39,
     "metadata": {},
     "output_type": "execute_result"
    }
   ],
   "source": [
    "matriculas_por_curso.head()"
   ]
  },
  {
   "cell_type": "markdown",
   "metadata": {
    "id": "sz63VQgdFmL4"
   },
   "source": [
    "# Saída em diferentes formatos"
   ]
  },
  {
   "cell_type": "code",
   "execution_count": 40,
   "metadata": {
    "executionInfo": {
     "elapsed": 11839,
     "status": "ok",
     "timestamp": 1617294730336,
     "user": {
      "displayName": "Diego Cowen",
      "photoUrl": "https://lh3.googleusercontent.com/a-/AOh14GjO8mnfw734D_zId9Pb9H0btm46gyaEIHLqs5w0-g=s64",
      "userId": "00433632151485364739"
     },
     "user_tz": 180
    },
    "id": "9RXA7P7yE2gP"
   },
   "outputs": [],
   "source": [
    "matriculas_por_curso.to_csv('matriculas_por_curso.csv', index = False)"
   ]
  },
  {
   "cell_type": "code",
   "execution_count": 41,
   "metadata": {
    "colab": {
     "base_uri": "https://localhost:8080/",
     "height": 0
    },
    "executionInfo": {
     "elapsed": 11841,
     "status": "ok",
     "timestamp": 1617294730345,
     "user": {
      "displayName": "Diego Cowen",
      "photoUrl": "https://lh3.googleusercontent.com/a-/AOh14GjO8mnfw734D_zId9Pb9H0btm46gyaEIHLqs5w0-g=s64",
      "userId": "00433632151485364739"
     },
     "user_tz": 180
    },
    "id": "tzklbsGGGC5A",
    "outputId": "69b5d48d-4950-46e7-9c99-54bc8cdd75d7"
   },
   "outputs": [
    {
     "data": {
      "text/html": [
       "<div>\n",
       "<style scoped>\n",
       "    .dataframe tbody tr th:only-of-type {\n",
       "        vertical-align: middle;\n",
       "    }\n",
       "\n",
       "    .dataframe tbody tr th {\n",
       "        vertical-align: top;\n",
       "    }\n",
       "\n",
       "    .dataframe thead th {\n",
       "        text-align: right;\n",
       "    }\n",
       "</style>\n",
       "<table border=\"1\" class=\"dataframe\">\n",
       "  <thead>\n",
       "    <tr style=\"text-align: right;\">\n",
       "      <th></th>\n",
       "      <th>quantidade_de_alunos</th>\n",
       "      <th>nome_do_curso</th>\n",
       "    </tr>\n",
       "  </thead>\n",
       "  <tbody>\n",
       "    <tr>\n",
       "      <th>0</th>\n",
       "      <td>51</td>\n",
       "      <td>Lógica de programação</td>\n",
       "    </tr>\n",
       "    <tr>\n",
       "      <th>1</th>\n",
       "      <td>30</td>\n",
       "      <td>Java para Web</td>\n",
       "    </tr>\n",
       "    <tr>\n",
       "      <th>2</th>\n",
       "      <td>63</td>\n",
       "      <td>C# para Web</td>\n",
       "    </tr>\n",
       "    <tr>\n",
       "      <th>3</th>\n",
       "      <td>89</td>\n",
       "      <td>Ruby on Rails</td>\n",
       "    </tr>\n",
       "    <tr>\n",
       "      <th>4</th>\n",
       "      <td>10</td>\n",
       "      <td>Cursos de Python</td>\n",
       "    </tr>\n",
       "    <tr>\n",
       "      <th>5</th>\n",
       "      <td>26</td>\n",
       "      <td>PHP com MySql</td>\n",
       "    </tr>\n",
       "    <tr>\n",
       "      <th>6</th>\n",
       "      <td>5</td>\n",
       "      <td>.NET para web</td>\n",
       "    </tr>\n",
       "    <tr>\n",
       "      <th>7</th>\n",
       "      <td>9</td>\n",
       "      <td>Novas integrações com Java</td>\n",
       "    </tr>\n",
       "    <tr>\n",
       "      <th>8</th>\n",
       "      <td>12</td>\n",
       "      <td>TDD com Java</td>\n",
       "    </tr>\n",
       "    <tr>\n",
       "      <th>9</th>\n",
       "      <td>42</td>\n",
       "      <td>Código limpo com C#</td>\n",
       "    </tr>\n",
       "    <tr>\n",
       "      <th>10</th>\n",
       "      <td>75</td>\n",
       "      <td>Preparatório para certificação Java</td>\n",
       "    </tr>\n",
       "    <tr>\n",
       "      <th>11</th>\n",
       "      <td>24</td>\n",
       "      <td>Hardware básico</td>\n",
       "    </tr>\n",
       "    <tr>\n",
       "      <th>12</th>\n",
       "      <td>48</td>\n",
       "      <td>Persistência com .NET</td>\n",
       "    </tr>\n",
       "    <tr>\n",
       "      <th>13</th>\n",
       "      <td>63</td>\n",
       "      <td>Desenvolvendo jogos</td>\n",
       "    </tr>\n",
       "    <tr>\n",
       "      <th>14</th>\n",
       "      <td>65</td>\n",
       "      <td>Análise de dados</td>\n",
       "    </tr>\n",
       "    <tr>\n",
       "      <th>15</th>\n",
       "      <td>4</td>\n",
       "      <td>Estatística básica</td>\n",
       "    </tr>\n",
       "    <tr>\n",
       "      <th>16</th>\n",
       "      <td>32</td>\n",
       "      <td>Internet das coisas</td>\n",
       "    </tr>\n",
       "    <tr>\n",
       "      <th>17</th>\n",
       "      <td>17</td>\n",
       "      <td>Programação funcional</td>\n",
       "    </tr>\n",
       "    <tr>\n",
       "      <th>18</th>\n",
       "      <td>25</td>\n",
       "      <td>Boas práticas em Java</td>\n",
       "    </tr>\n",
       "    <tr>\n",
       "      <th>19</th>\n",
       "      <td>78</td>\n",
       "      <td>Orientação objetos com Java</td>\n",
       "    </tr>\n",
       "  </tbody>\n",
       "</table>\n",
       "</div>"
      ],
      "text/plain": [
       "    quantidade_de_alunos                        nome_do_curso\n",
       "0                     51                Lógica de programação\n",
       "1                     30                        Java para Web\n",
       "2                     63                          C# para Web\n",
       "3                     89                        Ruby on Rails\n",
       "4                     10                     Cursos de Python\n",
       "5                     26                        PHP com MySql\n",
       "6                      5                        .NET para web\n",
       "7                      9           Novas integrações com Java\n",
       "8                     12                         TDD com Java\n",
       "9                     42                  Código limpo com C#\n",
       "10                    75  Preparatório para certificação Java\n",
       "11                    24                      Hardware básico\n",
       "12                    48                Persistência com .NET\n",
       "13                    63                  Desenvolvendo jogos\n",
       "14                    65                     Análise de dados\n",
       "15                     4                   Estatística básica\n",
       "16                    32                  Internet das coisas\n",
       "17                    17                Programação funcional\n",
       "18                    25                Boas práticas em Java\n",
       "19                    78          Orientação objetos com Java"
      ]
     },
     "execution_count": 41,
     "metadata": {},
     "output_type": "execute_result"
    }
   ],
   "source": [
    "pd.read_csv('matriculas_por_curso.csv')"
   ]
  },
  {
   "cell_type": "code",
   "execution_count": 42,
   "metadata": {
    "executionInfo": {
     "elapsed": 11840,
     "status": "ok",
     "timestamp": 1617294730348,
     "user": {
      "displayName": "Diego Cowen",
      "photoUrl": "https://lh3.googleusercontent.com/a-/AOh14GjO8mnfw734D_zId9Pb9H0btm46gyaEIHLqs5w0-g=s64",
      "userId": "00433632151485364739"
     },
     "user_tz": 180
    },
    "id": "KTGKp0BBGoM2"
   },
   "outputs": [],
   "source": [
    "matriculas_json = matriculas_por_curso.to_json()"
   ]
  },
  {
   "cell_type": "code",
   "execution_count": 43,
   "metadata": {
    "colab": {
     "base_uri": "https://localhost:8080/",
     "height": 0
    },
    "executionInfo": {
     "elapsed": 11833,
     "status": "ok",
     "timestamp": 1617294730349,
     "user": {
      "displayName": "Diego Cowen",
      "photoUrl": "https://lh3.googleusercontent.com/a-/AOh14GjO8mnfw734D_zId9Pb9H0btm46gyaEIHLqs5w0-g=s64",
      "userId": "00433632151485364739"
     },
     "user_tz": 180
    },
    "id": "_v6OjE0dHMy6",
    "outputId": "52892fa1-bc24-4518-a945-74ffec2f8736"
   },
   "outputs": [
    {
     "data": {
      "text/plain": [
       "'{\"quantidade_de_alunos\":{\"1\":51,\"2\":30,\"3\":63,\"4\":89,\"5\":10,\"6\":26,\"7\":5,\"8\":9,\"9\":12,\"10\":42,\"11\":75,\"12\":24,\"13\":48,\"14\":63,\"15\":65,\"16\":4,\"17\":32,\"18\":17,\"19\":25,\"20\":78},\"nome_do_curso\":{\"1\":\"L\\\\u00f3gica de programa\\\\u00e7\\\\u00e3o\",\"2\":\"Java para Web\",\"3\":\"C# para Web\",\"4\":\"Ruby on Rails\",\"5\":\"Cursos de Python\",\"6\":\"PHP com MySql\",\"7\":\".NET para web\",\"8\":\"Novas integra\\\\u00e7\\\\u00f5es com Java\",\"9\":\"TDD com Java\",\"10\":\"C\\\\u00f3digo limpo com C#\",\"11\":\"Preparat\\\\u00f3rio para certifica\\\\u00e7\\\\u00e3o Java\",\"12\":\"Hardware b\\\\u00e1sico\",\"13\":\"Persist\\\\u00eancia com .NET\",\"14\":\"Desenvolvendo jogos\",\"15\":\"An\\\\u00e1lise de dados\",\"16\":\"Estat\\\\u00edstica b\\\\u00e1sica\",\"17\":\"Internet das coisas\",\"18\":\"Programa\\\\u00e7\\\\u00e3o funcional\",\"19\":\"Boas pr\\\\u00e1ticas em Java\",\"20\":\"Orienta\\\\u00e7\\\\u00e3o objetos com Java\"}}'"
      ]
     },
     "execution_count": 43,
     "metadata": {},
     "output_type": "execute_result"
    }
   ],
   "source": [
    "matriculas_json"
   ]
  },
  {
   "cell_type": "code",
   "execution_count": 44,
   "metadata": {
    "executionInfo": {
     "elapsed": 11831,
     "status": "ok",
     "timestamp": 1617294730351,
     "user": {
      "displayName": "Diego Cowen",
      "photoUrl": "https://lh3.googleusercontent.com/a-/AOh14GjO8mnfw734D_zId9Pb9H0btm46gyaEIHLqs5w0-g=s64",
      "userId": "00433632151485364739"
     },
     "user_tz": 180
    },
    "id": "ZWSS_TmzHONm"
   },
   "outputs": [],
   "source": [
    "matriculas_html = matriculas_por_curso.to_html()"
   ]
  },
  {
   "cell_type": "code",
   "execution_count": 45,
   "metadata": {
    "colab": {
     "base_uri": "https://localhost:8080/",
     "height": 0
    },
    "executionInfo": {
     "elapsed": 11829,
     "status": "ok",
     "timestamp": 1617294730356,
     "user": {
      "displayName": "Diego Cowen",
      "photoUrl": "https://lh3.googleusercontent.com/a-/AOh14GjO8mnfw734D_zId9Pb9H0btm46gyaEIHLqs5w0-g=s64",
      "userId": "00433632151485364739"
     },
     "user_tz": 180
    },
    "id": "vaqXNT92HtH2",
    "outputId": "6c93e79d-c807-4617-f154-53768c6ce82a"
   },
   "outputs": [
    {
     "data": {
      "text/plain": [
       "'<table border=\"1\" class=\"dataframe\">\\n  <thead>\\n    <tr style=\"text-align: right;\">\\n      <th></th>\\n      <th>quantidade_de_alunos</th>\\n      <th>nome_do_curso</th>\\n    </tr>\\n    <tr>\\n      <th>id_curso</th>\\n      <th></th>\\n      <th></th>\\n    </tr>\\n  </thead>\\n  <tbody>\\n    <tr>\\n      <th>1</th>\\n      <td>51</td>\\n      <td>Lógica de programação</td>\\n    </tr>\\n    <tr>\\n      <th>2</th>\\n      <td>30</td>\\n      <td>Java para Web</td>\\n    </tr>\\n    <tr>\\n      <th>3</th>\\n      <td>63</td>\\n      <td>C# para Web</td>\\n    </tr>\\n    <tr>\\n      <th>4</th>\\n      <td>89</td>\\n      <td>Ruby on Rails</td>\\n    </tr>\\n    <tr>\\n      <th>5</th>\\n      <td>10</td>\\n      <td>Cursos de Python</td>\\n    </tr>\\n    <tr>\\n      <th>6</th>\\n      <td>26</td>\\n      <td>PHP com MySql</td>\\n    </tr>\\n    <tr>\\n      <th>7</th>\\n      <td>5</td>\\n      <td>.NET para web</td>\\n    </tr>\\n    <tr>\\n      <th>8</th>\\n      <td>9</td>\\n      <td>Novas integrações com Java</td>\\n    </tr>\\n    <tr>\\n      <th>9</th>\\n      <td>12</td>\\n      <td>TDD com Java</td>\\n    </tr>\\n    <tr>\\n      <th>10</th>\\n      <td>42</td>\\n      <td>Código limpo com C#</td>\\n    </tr>\\n    <tr>\\n      <th>11</th>\\n      <td>75</td>\\n      <td>Preparatório para certificação Java</td>\\n    </tr>\\n    <tr>\\n      <th>12</th>\\n      <td>24</td>\\n      <td>Hardware básico</td>\\n    </tr>\\n    <tr>\\n      <th>13</th>\\n      <td>48</td>\\n      <td>Persistência com .NET</td>\\n    </tr>\\n    <tr>\\n      <th>14</th>\\n      <td>63</td>\\n      <td>Desenvolvendo jogos</td>\\n    </tr>\\n    <tr>\\n      <th>15</th>\\n      <td>65</td>\\n      <td>Análise de dados</td>\\n    </tr>\\n    <tr>\\n      <th>16</th>\\n      <td>4</td>\\n      <td>Estatística básica</td>\\n    </tr>\\n    <tr>\\n      <th>17</th>\\n      <td>32</td>\\n      <td>Internet das coisas</td>\\n    </tr>\\n    <tr>\\n      <th>18</th>\\n      <td>17</td>\\n      <td>Programação funcional</td>\\n    </tr>\\n    <tr>\\n      <th>19</th>\\n      <td>25</td>\\n      <td>Boas práticas em Java</td>\\n    </tr>\\n    <tr>\\n      <th>20</th>\\n      <td>78</td>\\n      <td>Orientação objetos com Java</td>\\n    </tr>\\n  </tbody>\\n</table>'"
      ]
     },
     "metadata": {},
     "output_type": "display_data"
    }
   ],
   "source": [
    "display(matriculas_html)"
   ]
  },
  {
   "cell_type": "markdown",
   "metadata": {
    "id": "TUQ2zaD8M5W3"
   },
   "source": [
    "# Criando o Banco SQL"
   ]
  },
  {
   "cell_type": "code",
   "execution_count": 46,
   "metadata": {
    "colab": {
     "base_uri": "https://localhost:8080/"
    },
    "executionInfo": {
     "elapsed": 13789,
     "status": "ok",
     "timestamp": 1617294732324,
     "user": {
      "displayName": "Diego Cowen",
      "photoUrl": "https://lh3.googleusercontent.com/a-/AOh14GjO8mnfw734D_zId9Pb9H0btm46gyaEIHLqs5w0-g=s64",
      "userId": "00433632151485364739"
     },
     "user_tz": 180
    },
    "id": "JJuoFbRwHukm",
    "outputId": "06ba4160-e954-42d7-8e7a-d0bae63a7aeb"
   },
   "outputs": [
    {
     "name": "stdout",
     "output_type": "stream",
     "text": [
      "Requirement already satisfied: sqlalchemy in c:\\users\\dicow\\anaconda3\\lib\\site-packages (1.3.20)\n"
     ]
    }
   ],
   "source": [
    "!pip install sqlalchemy"
   ]
  },
  {
   "cell_type": "code",
   "execution_count": 47,
   "metadata": {
    "executionInfo": {
     "elapsed": 13789,
     "status": "ok",
     "timestamp": 1617294732327,
     "user": {
      "displayName": "Diego Cowen",
      "photoUrl": "https://lh3.googleusercontent.com/a-/AOh14GjO8mnfw734D_zId9Pb9H0btm46gyaEIHLqs5w0-g=s64",
      "userId": "00433632151485364739"
     },
     "user_tz": 180
    },
    "id": "0gzA8mPQNXBA"
   },
   "outputs": [],
   "source": [
    "from sqlalchemy import create_engine, MetaData, Table"
   ]
  },
  {
   "cell_type": "code",
   "execution_count": 48,
   "metadata": {
    "executionInfo": {
     "elapsed": 13789,
     "status": "ok",
     "timestamp": 1617294732329,
     "user": {
      "displayName": "Diego Cowen",
      "photoUrl": "https://lh3.googleusercontent.com/a-/AOh14GjO8mnfw734D_zId9Pb9H0btm46gyaEIHLqs5w0-g=s64",
      "userId": "00433632151485364739"
     },
     "user_tz": 180
    },
    "id": "M5YGZUpFN69l"
   },
   "outputs": [],
   "source": [
    "engine = create_engine('sqlite:///:memory:')"
   ]
  },
  {
   "cell_type": "code",
   "execution_count": 49,
   "metadata": {
    "colab": {
     "base_uri": "https://localhost:8080/"
    },
    "executionInfo": {
     "elapsed": 13783,
     "status": "ok",
     "timestamp": 1617294732331,
     "user": {
      "displayName": "Diego Cowen",
      "photoUrl": "https://lh3.googleusercontent.com/a-/AOh14GjO8mnfw734D_zId9Pb9H0btm46gyaEIHLqs5w0-g=s64",
      "userId": "00433632151485364739"
     },
     "user_tz": 180
    },
    "id": "2ECypyHvRrZx",
    "outputId": "39ea0162-614c-41c6-ff5f-2df682174078"
   },
   "outputs": [
    {
     "data": {
      "text/plain": [
       "Engine(sqlite:///:memory:)"
      ]
     },
     "execution_count": 49,
     "metadata": {},
     "output_type": "execute_result"
    }
   ],
   "source": [
    "engine"
   ]
  },
  {
   "cell_type": "code",
   "execution_count": 50,
   "metadata": {
    "colab": {
     "base_uri": "https://localhost:8080/"
    },
    "executionInfo": {
     "elapsed": 13777,
     "status": "ok",
     "timestamp": 1617294732333,
     "user": {
      "displayName": "Diego Cowen",
      "photoUrl": "https://lh3.googleusercontent.com/a-/AOh14GjO8mnfw734D_zId9Pb9H0btm46gyaEIHLqs5w0-g=s64",
      "userId": "00433632151485364739"
     },
     "user_tz": 180
    },
    "id": "25ue0cQURsIf",
    "outputId": "736b1feb-7f67-4393-fd4c-de2f1cde9ea8"
   },
   "outputs": [
    {
     "data": {
      "text/plain": [
       "sqlalchemy.engine.base.Engine"
      ]
     },
     "execution_count": 50,
     "metadata": {},
     "output_type": "execute_result"
    }
   ],
   "source": [
    "type(engine)"
   ]
  },
  {
   "cell_type": "code",
   "execution_count": 51,
   "metadata": {
    "executionInfo": {
     "elapsed": 13776,
     "status": "ok",
     "timestamp": 1617294732335,
     "user": {
      "displayName": "Diego Cowen",
      "photoUrl": "https://lh3.googleusercontent.com/a-/AOh14GjO8mnfw734D_zId9Pb9H0btm46gyaEIHLqs5w0-g=s64",
      "userId": "00433632151485364739"
     },
     "user_tz": 180
    },
    "id": "RlPkoa3URx1u"
   },
   "outputs": [],
   "source": [
    "matriculas_por_curso.to_sql('matriculas', engine)"
   ]
  },
  {
   "cell_type": "code",
   "execution_count": 52,
   "metadata": {
    "colab": {
     "base_uri": "https://localhost:8080/"
    },
    "executionInfo": {
     "elapsed": 13773,
     "status": "ok",
     "timestamp": 1617294732340,
     "user": {
      "displayName": "Diego Cowen",
      "photoUrl": "https://lh3.googleusercontent.com/a-/AOh14GjO8mnfw734D_zId9Pb9H0btm46gyaEIHLqs5w0-g=s64",
      "userId": "00433632151485364739"
     },
     "user_tz": 180
    },
    "id": "QrluQuMqSUQv",
    "outputId": "27438dee-b220-49bc-d8b4-78625a554431"
   },
   "outputs": [
    {
     "name": "stdout",
     "output_type": "stream",
     "text": [
      "['matriculas']\n"
     ]
    }
   ],
   "source": [
    "print(engine.table_names())"
   ]
  },
  {
   "cell_type": "markdown",
   "metadata": {
    "id": "bQPLB20qWCqj"
   },
   "source": [
    "# Buscando do banco SQL"
   ]
  },
  {
   "cell_type": "code",
   "execution_count": 53,
   "metadata": {
    "executionInfo": {
     "elapsed": 13771,
     "status": "ok",
     "timestamp": 1617294732342,
     "user": {
      "displayName": "Diego Cowen",
      "photoUrl": "https://lh3.googleusercontent.com/a-/AOh14GjO8mnfw734D_zId9Pb9H0btm46gyaEIHLqs5w0-g=s64",
      "userId": "00433632151485364739"
     },
     "user_tz": 180
    },
    "id": "K5Mwj5V5Sain"
   },
   "outputs": [],
   "source": [
    "query ='select * from matriculas where quantidade_de_alunos < 20'"
   ]
  },
  {
   "cell_type": "code",
   "execution_count": 54,
   "metadata": {
    "colab": {
     "base_uri": "https://localhost:8080/",
     "height": 0
    },
    "executionInfo": {
     "elapsed": 13764,
     "status": "ok",
     "timestamp": 1617294732344,
     "user": {
      "displayName": "Diego Cowen",
      "photoUrl": "https://lh3.googleusercontent.com/a-/AOh14GjO8mnfw734D_zId9Pb9H0btm46gyaEIHLqs5w0-g=s64",
      "userId": "00433632151485364739"
     },
     "user_tz": 180
    },
    "id": "hSedZnnjX2Ha",
    "outputId": "b268f549-28c7-4814-c950-42d36625d96e"
   },
   "outputs": [
    {
     "data": {
      "text/html": [
       "<div>\n",
       "<style scoped>\n",
       "    .dataframe tbody tr th:only-of-type {\n",
       "        vertical-align: middle;\n",
       "    }\n",
       "\n",
       "    .dataframe tbody tr th {\n",
       "        vertical-align: top;\n",
       "    }\n",
       "\n",
       "    .dataframe thead th {\n",
       "        text-align: right;\n",
       "    }\n",
       "</style>\n",
       "<table border=\"1\" class=\"dataframe\">\n",
       "  <thead>\n",
       "    <tr style=\"text-align: right;\">\n",
       "      <th></th>\n",
       "      <th>id_curso</th>\n",
       "      <th>quantidade_de_alunos</th>\n",
       "      <th>nome_do_curso</th>\n",
       "    </tr>\n",
       "  </thead>\n",
       "  <tbody>\n",
       "    <tr>\n",
       "      <th>0</th>\n",
       "      <td>5</td>\n",
       "      <td>10</td>\n",
       "      <td>Cursos de Python</td>\n",
       "    </tr>\n",
       "    <tr>\n",
       "      <th>1</th>\n",
       "      <td>7</td>\n",
       "      <td>5</td>\n",
       "      <td>.NET para web</td>\n",
       "    </tr>\n",
       "    <tr>\n",
       "      <th>2</th>\n",
       "      <td>8</td>\n",
       "      <td>9</td>\n",
       "      <td>Novas integrações com Java</td>\n",
       "    </tr>\n",
       "    <tr>\n",
       "      <th>3</th>\n",
       "      <td>9</td>\n",
       "      <td>12</td>\n",
       "      <td>TDD com Java</td>\n",
       "    </tr>\n",
       "    <tr>\n",
       "      <th>4</th>\n",
       "      <td>16</td>\n",
       "      <td>4</td>\n",
       "      <td>Estatística básica</td>\n",
       "    </tr>\n",
       "    <tr>\n",
       "      <th>5</th>\n",
       "      <td>18</td>\n",
       "      <td>17</td>\n",
       "      <td>Programação funcional</td>\n",
       "    </tr>\n",
       "  </tbody>\n",
       "</table>\n",
       "</div>"
      ],
      "text/plain": [
       "   id_curso  quantidade_de_alunos               nome_do_curso\n",
       "0         5                    10            Cursos de Python\n",
       "1         7                     5               .NET para web\n",
       "2         8                     9  Novas integrações com Java\n",
       "3         9                    12                TDD com Java\n",
       "4        16                     4          Estatística básica\n",
       "5        18                    17       Programação funcional"
      ]
     },
     "execution_count": 54,
     "metadata": {},
     "output_type": "execute_result"
    }
   ],
   "source": [
    "pd.read_sql(query, engine)"
   ]
  },
  {
   "cell_type": "code",
   "execution_count": 55,
   "metadata": {
    "colab": {
     "base_uri": "https://localhost:8080/",
     "height": 0
    },
    "executionInfo": {
     "elapsed": 14928,
     "status": "ok",
     "timestamp": 1617294733517,
     "user": {
      "displayName": "Diego Cowen",
      "photoUrl": "https://lh3.googleusercontent.com/a-/AOh14GjO8mnfw734D_zId9Pb9H0btm46gyaEIHLqs5w0-g=s64",
      "userId": "00433632151485364739"
     },
     "user_tz": 180
    },
    "id": "r9LdkEVjX8rW",
    "outputId": "ba8f0218-b26f-40c9-d37f-4da7702dd6e4"
   },
   "outputs": [
    {
     "data": {
      "text/html": [
       "<div>\n",
       "<style scoped>\n",
       "    .dataframe tbody tr th:only-of-type {\n",
       "        vertical-align: middle;\n",
       "    }\n",
       "\n",
       "    .dataframe tbody tr th {\n",
       "        vertical-align: top;\n",
       "    }\n",
       "\n",
       "    .dataframe thead th {\n",
       "        text-align: right;\n",
       "    }\n",
       "</style>\n",
       "<table border=\"1\" class=\"dataframe\">\n",
       "  <thead>\n",
       "    <tr style=\"text-align: right;\">\n",
       "      <th></th>\n",
       "      <th>nome_do_curso</th>\n",
       "      <th>quantidade_de_alunos</th>\n",
       "    </tr>\n",
       "  </thead>\n",
       "  <tbody>\n",
       "    <tr>\n",
       "      <th>0</th>\n",
       "      <td>Lógica de programação</td>\n",
       "      <td>51</td>\n",
       "    </tr>\n",
       "    <tr>\n",
       "      <th>1</th>\n",
       "      <td>Java para Web</td>\n",
       "      <td>30</td>\n",
       "    </tr>\n",
       "    <tr>\n",
       "      <th>2</th>\n",
       "      <td>C# para Web</td>\n",
       "      <td>63</td>\n",
       "    </tr>\n",
       "    <tr>\n",
       "      <th>3</th>\n",
       "      <td>Ruby on Rails</td>\n",
       "      <td>89</td>\n",
       "    </tr>\n",
       "    <tr>\n",
       "      <th>4</th>\n",
       "      <td>Cursos de Python</td>\n",
       "      <td>10</td>\n",
       "    </tr>\n",
       "    <tr>\n",
       "      <th>5</th>\n",
       "      <td>PHP com MySql</td>\n",
       "      <td>26</td>\n",
       "    </tr>\n",
       "    <tr>\n",
       "      <th>6</th>\n",
       "      <td>.NET para web</td>\n",
       "      <td>5</td>\n",
       "    </tr>\n",
       "    <tr>\n",
       "      <th>7</th>\n",
       "      <td>Novas integrações com Java</td>\n",
       "      <td>9</td>\n",
       "    </tr>\n",
       "    <tr>\n",
       "      <th>8</th>\n",
       "      <td>TDD com Java</td>\n",
       "      <td>12</td>\n",
       "    </tr>\n",
       "    <tr>\n",
       "      <th>9</th>\n",
       "      <td>Código limpo com C#</td>\n",
       "      <td>42</td>\n",
       "    </tr>\n",
       "    <tr>\n",
       "      <th>10</th>\n",
       "      <td>Preparatório para certificação Java</td>\n",
       "      <td>75</td>\n",
       "    </tr>\n",
       "    <tr>\n",
       "      <th>11</th>\n",
       "      <td>Hardware básico</td>\n",
       "      <td>24</td>\n",
       "    </tr>\n",
       "    <tr>\n",
       "      <th>12</th>\n",
       "      <td>Persistência com .NET</td>\n",
       "      <td>48</td>\n",
       "    </tr>\n",
       "    <tr>\n",
       "      <th>13</th>\n",
       "      <td>Desenvolvendo jogos</td>\n",
       "      <td>63</td>\n",
       "    </tr>\n",
       "    <tr>\n",
       "      <th>14</th>\n",
       "      <td>Análise de dados</td>\n",
       "      <td>65</td>\n",
       "    </tr>\n",
       "    <tr>\n",
       "      <th>15</th>\n",
       "      <td>Estatística básica</td>\n",
       "      <td>4</td>\n",
       "    </tr>\n",
       "    <tr>\n",
       "      <th>16</th>\n",
       "      <td>Internet das coisas</td>\n",
       "      <td>32</td>\n",
       "    </tr>\n",
       "    <tr>\n",
       "      <th>17</th>\n",
       "      <td>Programação funcional</td>\n",
       "      <td>17</td>\n",
       "    </tr>\n",
       "    <tr>\n",
       "      <th>18</th>\n",
       "      <td>Boas práticas em Java</td>\n",
       "      <td>25</td>\n",
       "    </tr>\n",
       "    <tr>\n",
       "      <th>19</th>\n",
       "      <td>Orientação objetos com Java</td>\n",
       "      <td>78</td>\n",
       "    </tr>\n",
       "  </tbody>\n",
       "</table>\n",
       "</div>"
      ],
      "text/plain": [
       "                          nome_do_curso  quantidade_de_alunos\n",
       "0                 Lógica de programação                    51\n",
       "1                         Java para Web                    30\n",
       "2                           C# para Web                    63\n",
       "3                         Ruby on Rails                    89\n",
       "4                      Cursos de Python                    10\n",
       "5                         PHP com MySql                    26\n",
       "6                         .NET para web                     5\n",
       "7            Novas integrações com Java                     9\n",
       "8                          TDD com Java                    12\n",
       "9                   Código limpo com C#                    42\n",
       "10  Preparatório para certificação Java                    75\n",
       "11                      Hardware básico                    24\n",
       "12                Persistência com .NET                    48\n",
       "13                  Desenvolvendo jogos                    63\n",
       "14                     Análise de dados                    65\n",
       "15                   Estatística básica                     4\n",
       "16                  Internet das coisas                    32\n",
       "17                Programação funcional                    17\n",
       "18                Boas práticas em Java                    25\n",
       "19          Orientação objetos com Java                    78"
      ]
     },
     "execution_count": 55,
     "metadata": {},
     "output_type": "execute_result"
    }
   ],
   "source": [
    "pd.read_sql_table('matriculas', engine, columns = ['nome_do_curso', 'quantidade_de_alunos'])"
   ]
  },
  {
   "cell_type": "code",
   "execution_count": 56,
   "metadata": {
    "executionInfo": {
     "elapsed": 14928,
     "status": "ok",
     "timestamp": 1617294733521,
     "user": {
      "displayName": "Diego Cowen",
      "photoUrl": "https://lh3.googleusercontent.com/a-/AOh14GjO8mnfw734D_zId9Pb9H0btm46gyaEIHLqs5w0-g=s64",
      "userId": "00433632151485364739"
     },
     "user_tz": 180
    },
    "id": "LRRiTrr5Y6eZ"
   },
   "outputs": [],
   "source": [
    "muitas_matriculas = pd.read_sql_table('matriculas', engine, columns = ['nome_do_curso', 'quantidade_de_alunos'])"
   ]
  },
  {
   "cell_type": "code",
   "execution_count": 57,
   "metadata": {
    "executionInfo": {
     "elapsed": 14927,
     "status": "ok",
     "timestamp": 1617294733523,
     "user": {
      "displayName": "Diego Cowen",
      "photoUrl": "https://lh3.googleusercontent.com/a-/AOh14GjO8mnfw734D_zId9Pb9H0btm46gyaEIHLqs5w0-g=s64",
      "userId": "00433632151485364739"
     },
     "user_tz": 180
    },
    "id": "D3ushFlqZKHu"
   },
   "outputs": [],
   "source": [
    "muitas_matriculas = muitas_matriculas.query('quantidade_de_alunos > 80')"
   ]
  },
  {
   "cell_type": "code",
   "execution_count": 58,
   "metadata": {
    "colab": {
     "base_uri": "https://localhost:8080/",
     "height": 0
    },
    "executionInfo": {
     "elapsed": 14921,
     "status": "ok",
     "timestamp": 1617294733524,
     "user": {
      "displayName": "Diego Cowen",
      "photoUrl": "https://lh3.googleusercontent.com/a-/AOh14GjO8mnfw734D_zId9Pb9H0btm46gyaEIHLqs5w0-g=s64",
      "userId": "00433632151485364739"
     },
     "user_tz": 180
    },
    "id": "AkjLMX-RZlqO",
    "outputId": "ee7fd089-3173-479d-95c1-dfa6b9e79a3c"
   },
   "outputs": [
    {
     "data": {
      "text/html": [
       "<div>\n",
       "<style scoped>\n",
       "    .dataframe tbody tr th:only-of-type {\n",
       "        vertical-align: middle;\n",
       "    }\n",
       "\n",
       "    .dataframe tbody tr th {\n",
       "        vertical-align: top;\n",
       "    }\n",
       "\n",
       "    .dataframe thead th {\n",
       "        text-align: right;\n",
       "    }\n",
       "</style>\n",
       "<table border=\"1\" class=\"dataframe\">\n",
       "  <thead>\n",
       "    <tr style=\"text-align: right;\">\n",
       "      <th></th>\n",
       "      <th>nome_do_curso</th>\n",
       "      <th>quantidade_de_alunos</th>\n",
       "    </tr>\n",
       "  </thead>\n",
       "  <tbody>\n",
       "    <tr>\n",
       "      <th>3</th>\n",
       "      <td>Ruby on Rails</td>\n",
       "      <td>89</td>\n",
       "    </tr>\n",
       "  </tbody>\n",
       "</table>\n",
       "</div>"
      ],
      "text/plain": [
       "   nome_do_curso  quantidade_de_alunos\n",
       "3  Ruby on Rails                    89"
      ]
     },
     "execution_count": 58,
     "metadata": {},
     "output_type": "execute_result"
    }
   ],
   "source": [
    "muitas_matriculas"
   ]
  },
  {
   "cell_type": "markdown",
   "metadata": {
    "id": "Sc3IoMn6aJBk"
   },
   "source": [
    "# Escrevendo no banco"
   ]
  },
  {
   "cell_type": "code",
   "execution_count": 59,
   "metadata": {
    "executionInfo": {
     "elapsed": 14915,
     "status": "ok",
     "timestamp": 1617294733525,
     "user": {
      "displayName": "Diego Cowen",
      "photoUrl": "https://lh3.googleusercontent.com/a-/AOh14GjO8mnfw734D_zId9Pb9H0btm46gyaEIHLqs5w0-g=s64",
      "userId": "00433632151485364739"
     },
     "user_tz": 180
    },
    "id": "_m7afCntZ-Zw"
   },
   "outputs": [],
   "source": [
    "muitas_matriculas.to_sql('muitas_matriculas', con = engine)"
   ]
  },
  {
   "cell_type": "code",
   "execution_count": 60,
   "metadata": {
    "colab": {
     "base_uri": "https://localhost:8080/"
    },
    "executionInfo": {
     "elapsed": 14910,
     "status": "ok",
     "timestamp": 1617294733526,
     "user": {
      "displayName": "Diego Cowen",
      "photoUrl": "https://lh3.googleusercontent.com/a-/AOh14GjO8mnfw734D_zId9Pb9H0btm46gyaEIHLqs5w0-g=s64",
      "userId": "00433632151485364739"
     },
     "user_tz": 180
    },
    "id": "2F8ameYzarCQ",
    "outputId": "d58ec038-18e1-43fb-cbfa-6f4f486aae7d"
   },
   "outputs": [
    {
     "name": "stdout",
     "output_type": "stream",
     "text": [
      "['matriculas', 'muitas_matriculas']\n"
     ]
    }
   ],
   "source": [
    "print(engine.table_names())"
   ]
  },
  {
   "cell_type": "markdown",
   "metadata": {
    "id": "ifSCHmddR01S"
   },
   "source": [
    "# Nomes dos Alunos e Alunas da Próxima Turma"
   ]
  },
  {
   "cell_type": "code",
   "execution_count": 61,
   "metadata": {
    "colab": {
     "base_uri": "https://localhost:8080/",
     "height": 700
    },
    "executionInfo": {
     "elapsed": 695,
     "status": "ok",
     "timestamp": 1617294793022,
     "user": {
      "displayName": "Diego Cowen",
      "photoUrl": "https://lh3.googleusercontent.com/a-/AOh14GjO8mnfw734D_zId9Pb9H0btm46gyaEIHLqs5w0-g=s64",
      "userId": "00433632151485364739"
     },
     "user_tz": 180
    },
    "id": "jrSl25H8avt3",
    "outputId": "065ccd78-c4d1-4546-f27a-ff02a631e497"
   },
   "outputs": [
    {
     "data": {
      "text/html": [
       "<div>\n",
       "<style scoped>\n",
       "    .dataframe tbody tr th:only-of-type {\n",
       "        vertical-align: middle;\n",
       "    }\n",
       "\n",
       "    .dataframe tbody tr th {\n",
       "        vertical-align: top;\n",
       "    }\n",
       "\n",
       "    .dataframe thead th {\n",
       "        text-align: right;\n",
       "    }\n",
       "</style>\n",
       "<table border=\"1\" class=\"dataframe\">\n",
       "  <thead>\n",
       "    <tr style=\"text-align: right;\">\n",
       "      <th></th>\n",
       "      <th>quantidade_de_alunos</th>\n",
       "      <th>nome_do_curso</th>\n",
       "    </tr>\n",
       "    <tr>\n",
       "      <th>id_curso</th>\n",
       "      <th></th>\n",
       "      <th></th>\n",
       "    </tr>\n",
       "  </thead>\n",
       "  <tbody>\n",
       "    <tr>\n",
       "      <th>1</th>\n",
       "      <td>51</td>\n",
       "      <td>Lógica de programação</td>\n",
       "    </tr>\n",
       "    <tr>\n",
       "      <th>2</th>\n",
       "      <td>30</td>\n",
       "      <td>Java para Web</td>\n",
       "    </tr>\n",
       "    <tr>\n",
       "      <th>3</th>\n",
       "      <td>63</td>\n",
       "      <td>C# para Web</td>\n",
       "    </tr>\n",
       "    <tr>\n",
       "      <th>4</th>\n",
       "      <td>89</td>\n",
       "      <td>Ruby on Rails</td>\n",
       "    </tr>\n",
       "    <tr>\n",
       "      <th>5</th>\n",
       "      <td>10</td>\n",
       "      <td>Cursos de Python</td>\n",
       "    </tr>\n",
       "    <tr>\n",
       "      <th>6</th>\n",
       "      <td>26</td>\n",
       "      <td>PHP com MySql</td>\n",
       "    </tr>\n",
       "    <tr>\n",
       "      <th>7</th>\n",
       "      <td>5</td>\n",
       "      <td>.NET para web</td>\n",
       "    </tr>\n",
       "    <tr>\n",
       "      <th>8</th>\n",
       "      <td>9</td>\n",
       "      <td>Novas integrações com Java</td>\n",
       "    </tr>\n",
       "    <tr>\n",
       "      <th>9</th>\n",
       "      <td>12</td>\n",
       "      <td>TDD com Java</td>\n",
       "    </tr>\n",
       "    <tr>\n",
       "      <th>10</th>\n",
       "      <td>42</td>\n",
       "      <td>Código limpo com C#</td>\n",
       "    </tr>\n",
       "    <tr>\n",
       "      <th>11</th>\n",
       "      <td>75</td>\n",
       "      <td>Preparatório para certificação Java</td>\n",
       "    </tr>\n",
       "    <tr>\n",
       "      <th>12</th>\n",
       "      <td>24</td>\n",
       "      <td>Hardware básico</td>\n",
       "    </tr>\n",
       "    <tr>\n",
       "      <th>13</th>\n",
       "      <td>48</td>\n",
       "      <td>Persistência com .NET</td>\n",
       "    </tr>\n",
       "    <tr>\n",
       "      <th>14</th>\n",
       "      <td>63</td>\n",
       "      <td>Desenvolvendo jogos</td>\n",
       "    </tr>\n",
       "    <tr>\n",
       "      <th>15</th>\n",
       "      <td>65</td>\n",
       "      <td>Análise de dados</td>\n",
       "    </tr>\n",
       "    <tr>\n",
       "      <th>16</th>\n",
       "      <td>4</td>\n",
       "      <td>Estatística básica</td>\n",
       "    </tr>\n",
       "    <tr>\n",
       "      <th>17</th>\n",
       "      <td>32</td>\n",
       "      <td>Internet das coisas</td>\n",
       "    </tr>\n",
       "    <tr>\n",
       "      <th>18</th>\n",
       "      <td>17</td>\n",
       "      <td>Programação funcional</td>\n",
       "    </tr>\n",
       "    <tr>\n",
       "      <th>19</th>\n",
       "      <td>25</td>\n",
       "      <td>Boas práticas em Java</td>\n",
       "    </tr>\n",
       "    <tr>\n",
       "      <th>20</th>\n",
       "      <td>78</td>\n",
       "      <td>Orientação objetos com Java</td>\n",
       "    </tr>\n",
       "  </tbody>\n",
       "</table>\n",
       "</div>"
      ],
      "text/plain": [
       "          quantidade_de_alunos                        nome_do_curso\n",
       "id_curso                                                           \n",
       "1                           51                Lógica de programação\n",
       "2                           30                        Java para Web\n",
       "3                           63                          C# para Web\n",
       "4                           89                        Ruby on Rails\n",
       "5                           10                     Cursos de Python\n",
       "6                           26                        PHP com MySql\n",
       "7                            5                        .NET para web\n",
       "8                            9           Novas integrações com Java\n",
       "9                           12                         TDD com Java\n",
       "10                          42                  Código limpo com C#\n",
       "11                          75  Preparatório para certificação Java\n",
       "12                          24                      Hardware básico\n",
       "13                          48                Persistência com .NET\n",
       "14                          63                  Desenvolvendo jogos\n",
       "15                          65                     Análise de dados\n",
       "16                           4                   Estatística básica\n",
       "17                          32                  Internet das coisas\n",
       "18                          17                Programação funcional\n",
       "19                          25                Boas práticas em Java\n",
       "20                          78          Orientação objetos com Java"
      ]
     },
     "execution_count": 61,
     "metadata": {},
     "output_type": "execute_result"
    }
   ],
   "source": [
    "matriculas_por_curso"
   ]
  },
  {
   "cell_type": "code",
   "execution_count": 62,
   "metadata": {
    "executionInfo": {
     "elapsed": 500,
     "status": "ok",
     "timestamp": 1617295094806,
     "user": {
      "displayName": "Diego Cowen",
      "photoUrl": "https://lh3.googleusercontent.com/a-/AOh14GjO8mnfw734D_zId9Pb9H0btm46gyaEIHLqs5w0-g=s64",
      "userId": "00433632151485364739"
     },
     "user_tz": 180
    },
    "id": "bD_7PdJwSBYV"
   },
   "outputs": [],
   "source": [
    "id_curso = 5"
   ]
  },
  {
   "cell_type": "code",
   "execution_count": 63,
   "metadata": {
    "colab": {
     "base_uri": "https://localhost:8080/",
     "height": 359
    },
    "executionInfo": {
     "elapsed": 492,
     "status": "ok",
     "timestamp": 1617295165315,
     "user": {
      "displayName": "Diego Cowen",
      "photoUrl": "https://lh3.googleusercontent.com/a-/AOh14GjO8mnfw734D_zId9Pb9H0btm46gyaEIHLqs5w0-g=s64",
      "userId": "00433632151485364739"
     },
     "user_tz": 180
    },
    "id": "YNDeUCA3SS6U",
    "outputId": "7269bec7-a53c-4a5f-c598-03bb6e8a9262"
   },
   "outputs": [
    {
     "data": {
      "text/html": [
       "<div>\n",
       "<style scoped>\n",
       "    .dataframe tbody tr th:only-of-type {\n",
       "        vertical-align: middle;\n",
       "    }\n",
       "\n",
       "    .dataframe tbody tr th {\n",
       "        vertical-align: top;\n",
       "    }\n",
       "\n",
       "    .dataframe thead th {\n",
       "        text-align: right;\n",
       "    }\n",
       "</style>\n",
       "<table border=\"1\" class=\"dataframe\">\n",
       "  <thead>\n",
       "    <tr style=\"text-align: right;\">\n",
       "      <th></th>\n",
       "      <th>id_aluno</th>\n",
       "      <th>id_curso</th>\n",
       "    </tr>\n",
       "  </thead>\n",
       "  <tbody>\n",
       "    <tr>\n",
       "      <th>70</th>\n",
       "      <td>333</td>\n",
       "      <td>5</td>\n",
       "    </tr>\n",
       "    <tr>\n",
       "      <th>101</th>\n",
       "      <td>27</td>\n",
       "      <td>5</td>\n",
       "    </tr>\n",
       "    <tr>\n",
       "      <th>116</th>\n",
       "      <td>193</td>\n",
       "      <td>5</td>\n",
       "    </tr>\n",
       "    <tr>\n",
       "      <th>138</th>\n",
       "      <td>108</td>\n",
       "      <td>5</td>\n",
       "    </tr>\n",
       "    <tr>\n",
       "      <th>157</th>\n",
       "      <td>203</td>\n",
       "      <td>5</td>\n",
       "    </tr>\n",
       "    <tr>\n",
       "      <th>292</th>\n",
       "      <td>91</td>\n",
       "      <td>5</td>\n",
       "    </tr>\n",
       "    <tr>\n",
       "      <th>366</th>\n",
       "      <td>137</td>\n",
       "      <td>5</td>\n",
       "    </tr>\n",
       "    <tr>\n",
       "      <th>441</th>\n",
       "      <td>123</td>\n",
       "      <td>5</td>\n",
       "    </tr>\n",
       "    <tr>\n",
       "      <th>475</th>\n",
       "      <td>164</td>\n",
       "      <td>5</td>\n",
       "    </tr>\n",
       "    <tr>\n",
       "      <th>667</th>\n",
       "      <td>77</td>\n",
       "      <td>5</td>\n",
       "    </tr>\n",
       "  </tbody>\n",
       "</table>\n",
       "</div>"
      ],
      "text/plain": [
       "     id_aluno  id_curso\n",
       "70        333         5\n",
       "101        27         5\n",
       "116       193         5\n",
       "138       108         5\n",
       "157       203         5\n",
       "292        91         5\n",
       "366       137         5\n",
       "441       123         5\n",
       "475       164         5\n",
       "667        77         5"
      ]
     },
     "execution_count": 63,
     "metadata": {},
     "output_type": "execute_result"
    }
   ],
   "source": [
    "proxima_turma = matriculas.query(\"id_curso == {}\".format(id_curso))\n",
    "proxima_turma"
   ]
  },
  {
   "cell_type": "code",
   "execution_count": 64,
   "metadata": {
    "colab": {
     "base_uri": "https://localhost:8080/",
     "height": 390
    },
    "executionInfo": {
     "elapsed": 912,
     "status": "ok",
     "timestamp": 1617295904427,
     "user": {
      "displayName": "Diego Cowen",
      "photoUrl": "https://lh3.googleusercontent.com/a-/AOh14GjO8mnfw734D_zId9Pb9H0btm46gyaEIHLqs5w0-g=s64",
      "userId": "00433632151485364739"
     },
     "user_tz": 180
    },
    "id": "kYiIRYq3TcSN",
    "outputId": "e35e6726-e9bf-44d7-f50d-d54a0224573a"
   },
   "outputs": [
    {
     "data": {
      "text/html": [
       "<div>\n",
       "<style scoped>\n",
       "    .dataframe tbody tr th:only-of-type {\n",
       "        vertical-align: middle;\n",
       "    }\n",
       "\n",
       "    .dataframe tbody tr th {\n",
       "        vertical-align: top;\n",
       "    }\n",
       "\n",
       "    .dataframe thead th {\n",
       "        text-align: right;\n",
       "    }\n",
       "</style>\n",
       "<table border=\"1\" class=\"dataframe\">\n",
       "  <thead>\n",
       "    <tr style=\"text-align: right;\">\n",
       "      <th></th>\n",
       "      <th>id_curso</th>\n",
       "      <th>nome</th>\n",
       "      <th>dominio</th>\n",
       "      <th>email</th>\n",
       "      <th>matriculas</th>\n",
       "    </tr>\n",
       "    <tr>\n",
       "      <th>id_aluno</th>\n",
       "      <th></th>\n",
       "      <th></th>\n",
       "      <th></th>\n",
       "      <th></th>\n",
       "      <th></th>\n",
       "    </tr>\n",
       "  </thead>\n",
       "  <tbody>\n",
       "    <tr>\n",
       "      <th>333</th>\n",
       "      <td>5</td>\n",
       "      <td>ROSANGELA</td>\n",
       "      <td>@dominiodoemail.com.br</td>\n",
       "      <td>rosangela@dominiodoemail.com.br</td>\n",
       "      <td>1</td>\n",
       "    </tr>\n",
       "    <tr>\n",
       "      <th>27</th>\n",
       "      <td>5</td>\n",
       "      <td>RAFAELA</td>\n",
       "      <td>@dominiodoemail.com.br</td>\n",
       "      <td>rafaela@dominiodoemail.com.br</td>\n",
       "      <td>2</td>\n",
       "    </tr>\n",
       "    <tr>\n",
       "      <th>193</th>\n",
       "      <td>5</td>\n",
       "      <td>ALESSANDRA</td>\n",
       "      <td>@servicodoemail.com</td>\n",
       "      <td>alessandra@servicodoemail.com</td>\n",
       "      <td>2</td>\n",
       "    </tr>\n",
       "    <tr>\n",
       "      <th>108</th>\n",
       "      <td>5</td>\n",
       "      <td>LUIZA</td>\n",
       "      <td>@dominiodoemail.com.br</td>\n",
       "      <td>luiza@dominiodoemail.com.br</td>\n",
       "      <td>3</td>\n",
       "    </tr>\n",
       "    <tr>\n",
       "      <th>203</th>\n",
       "      <td>5</td>\n",
       "      <td>TATIANE</td>\n",
       "      <td>@servicodoemail.com</td>\n",
       "      <td>tatiane@servicodoemail.com</td>\n",
       "      <td>2</td>\n",
       "    </tr>\n",
       "    <tr>\n",
       "      <th>91</th>\n",
       "      <td>5</td>\n",
       "      <td>LORENA</td>\n",
       "      <td>@dominiodoemail.com.br</td>\n",
       "      <td>lorena@dominiodoemail.com.br</td>\n",
       "      <td>7</td>\n",
       "    </tr>\n",
       "    <tr>\n",
       "      <th>137</th>\n",
       "      <td>5</td>\n",
       "      <td>DALVA</td>\n",
       "      <td>@dominiodoemail.com.br</td>\n",
       "      <td>dalva@dominiodoemail.com.br</td>\n",
       "      <td>2</td>\n",
       "    </tr>\n",
       "    <tr>\n",
       "      <th>123</th>\n",
       "      <td>5</td>\n",
       "      <td>EDSON</td>\n",
       "      <td>@dominiodoemail.com.br</td>\n",
       "      <td>edson@dominiodoemail.com.br</td>\n",
       "      <td>3</td>\n",
       "    </tr>\n",
       "    <tr>\n",
       "      <th>164</th>\n",
       "      <td>5</td>\n",
       "      <td>MARIO</td>\n",
       "      <td>@servicodoemail.com</td>\n",
       "      <td>mario@servicodoemail.com</td>\n",
       "      <td>5</td>\n",
       "    </tr>\n",
       "    <tr>\n",
       "      <th>77</th>\n",
       "      <td>5</td>\n",
       "      <td>CAUA</td>\n",
       "      <td>@servicodoemail.com</td>\n",
       "      <td>caua@servicodoemail.com</td>\n",
       "      <td>2</td>\n",
       "    </tr>\n",
       "  </tbody>\n",
       "</table>\n",
       "</div>"
      ],
      "text/plain": [
       "          id_curso        nome                 dominio  \\\n",
       "id_aluno                                                 \n",
       "333              5   ROSANGELA  @dominiodoemail.com.br   \n",
       "27               5     RAFAELA  @dominiodoemail.com.br   \n",
       "193              5  ALESSANDRA     @servicodoemail.com   \n",
       "108              5       LUIZA  @dominiodoemail.com.br   \n",
       "203              5     TATIANE     @servicodoemail.com   \n",
       "91               5      LORENA  @dominiodoemail.com.br   \n",
       "137              5       DALVA  @dominiodoemail.com.br   \n",
       "123              5       EDSON  @dominiodoemail.com.br   \n",
       "164              5       MARIO     @servicodoemail.com   \n",
       "77               5        CAUA     @servicodoemail.com   \n",
       "\n",
       "                                    email  matriculas  \n",
       "id_aluno                                               \n",
       "333       rosangela@dominiodoemail.com.br           1  \n",
       "27          rafaela@dominiodoemail.com.br           2  \n",
       "193         alessandra@servicodoemail.com           2  \n",
       "108           luiza@dominiodoemail.com.br           3  \n",
       "203            tatiane@servicodoemail.com           2  \n",
       "91           lorena@dominiodoemail.com.br           7  \n",
       "137           dalva@dominiodoemail.com.br           2  \n",
       "123           edson@dominiodoemail.com.br           3  \n",
       "164              mario@servicodoemail.com           5  \n",
       "77                caua@servicodoemail.com           2  "
      ]
     },
     "execution_count": 64,
     "metadata": {},
     "output_type": "execute_result"
    }
   ],
   "source": [
    "proxima_turma.set_index('id_aluno').join(nomes.set_index('id_aluno'))"
   ]
  },
  {
   "cell_type": "code",
   "execution_count": 65,
   "metadata": {
    "colab": {
     "base_uri": "https://localhost:8080/"
    },
    "executionInfo": {
     "elapsed": 691,
     "status": "ok",
     "timestamp": 1617295998997,
     "user": {
      "displayName": "Diego Cowen",
      "photoUrl": "https://lh3.googleusercontent.com/a-/AOh14GjO8mnfw734D_zId9Pb9H0btm46gyaEIHLqs5w0-g=s64",
      "userId": "00433632151485364739"
     },
     "user_tz": 180
    },
    "id": "nKtKkw1zWQqA",
    "outputId": "9db7f17c-c478-4a1b-d8a4-f5ed15f6fa57"
   },
   "outputs": [
    {
     "data": {
      "text/plain": [
       "id_aluno\n",
       "333     ROSANGELA\n",
       "27        RAFAELA\n",
       "193    ALESSANDRA\n",
       "108         LUIZA\n",
       "203       TATIANE\n",
       "91         LORENA\n",
       "137         DALVA\n",
       "123         EDSON\n",
       "164         MARIO\n",
       "77           CAUA\n",
       "Name: nome, dtype: object"
      ]
     },
     "execution_count": 65,
     "metadata": {},
     "output_type": "execute_result"
    }
   ],
   "source": [
    "proxima_turma.set_index('id_aluno').join(nomes.set_index('id_aluno'))['nome']"
   ]
  },
  {
   "cell_type": "code",
   "execution_count": 66,
   "metadata": {
    "colab": {
     "base_uri": "https://localhost:8080/",
     "height": 390
    },
    "executionInfo": {
     "elapsed": 570,
     "status": "ok",
     "timestamp": 1617296063034,
     "user": {
      "displayName": "Diego Cowen",
      "photoUrl": "https://lh3.googleusercontent.com/a-/AOh14GjO8mnfw734D_zId9Pb9H0btm46gyaEIHLqs5w0-g=s64",
      "userId": "00433632151485364739"
     },
     "user_tz": 180
    },
    "id": "gBD33UxlWntG",
    "outputId": "5f67c2fa-0f87-4139-911b-e28d1d62e670"
   },
   "outputs": [
    {
     "data": {
      "text/html": [
       "<div>\n",
       "<style scoped>\n",
       "    .dataframe tbody tr th:only-of-type {\n",
       "        vertical-align: middle;\n",
       "    }\n",
       "\n",
       "    .dataframe tbody tr th {\n",
       "        vertical-align: top;\n",
       "    }\n",
       "\n",
       "    .dataframe thead th {\n",
       "        text-align: right;\n",
       "    }\n",
       "</style>\n",
       "<table border=\"1\" class=\"dataframe\">\n",
       "  <thead>\n",
       "    <tr style=\"text-align: right;\">\n",
       "      <th></th>\n",
       "      <th>nome</th>\n",
       "    </tr>\n",
       "    <tr>\n",
       "      <th>id_aluno</th>\n",
       "      <th></th>\n",
       "    </tr>\n",
       "  </thead>\n",
       "  <tbody>\n",
       "    <tr>\n",
       "      <th>333</th>\n",
       "      <td>ROSANGELA</td>\n",
       "    </tr>\n",
       "    <tr>\n",
       "      <th>27</th>\n",
       "      <td>RAFAELA</td>\n",
       "    </tr>\n",
       "    <tr>\n",
       "      <th>193</th>\n",
       "      <td>ALESSANDRA</td>\n",
       "    </tr>\n",
       "    <tr>\n",
       "      <th>108</th>\n",
       "      <td>LUIZA</td>\n",
       "    </tr>\n",
       "    <tr>\n",
       "      <th>203</th>\n",
       "      <td>TATIANE</td>\n",
       "    </tr>\n",
       "    <tr>\n",
       "      <th>91</th>\n",
       "      <td>LORENA</td>\n",
       "    </tr>\n",
       "    <tr>\n",
       "      <th>137</th>\n",
       "      <td>DALVA</td>\n",
       "    </tr>\n",
       "    <tr>\n",
       "      <th>123</th>\n",
       "      <td>EDSON</td>\n",
       "    </tr>\n",
       "    <tr>\n",
       "      <th>164</th>\n",
       "      <td>MARIO</td>\n",
       "    </tr>\n",
       "    <tr>\n",
       "      <th>77</th>\n",
       "      <td>CAUA</td>\n",
       "    </tr>\n",
       "  </tbody>\n",
       "</table>\n",
       "</div>"
      ],
      "text/plain": [
       "                nome\n",
       "id_aluno            \n",
       "333        ROSANGELA\n",
       "27           RAFAELA\n",
       "193       ALESSANDRA\n",
       "108            LUIZA\n",
       "203          TATIANE\n",
       "91            LORENA\n",
       "137            DALVA\n",
       "123            EDSON\n",
       "164            MARIO\n",
       "77              CAUA"
      ]
     },
     "execution_count": 66,
     "metadata": {},
     "output_type": "execute_result"
    }
   ],
   "source": [
    "proxima_turma.set_index('id_aluno').join(nomes.set_index('id_aluno'))['nome'].to_frame()"
   ]
  },
  {
   "cell_type": "code",
   "execution_count": 67,
   "metadata": {
    "executionInfo": {
     "elapsed": 761,
     "status": "ok",
     "timestamp": 1617296247412,
     "user": {
      "displayName": "Diego Cowen",
      "photoUrl": "https://lh3.googleusercontent.com/a-/AOh14GjO8mnfw734D_zId9Pb9H0btm46gyaEIHLqs5w0-g=s64",
      "userId": "00433632151485364739"
     },
     "user_tz": 180
    },
    "id": "ubCsgph1W2OV"
   },
   "outputs": [],
   "source": [
    "nome_curso = cursos.loc[id_curso]"
   ]
  },
  {
   "cell_type": "code",
   "execution_count": 68,
   "metadata": {
    "colab": {
     "base_uri": "https://localhost:8080/"
    },
    "executionInfo": {
     "elapsed": 909,
     "status": "ok",
     "timestamp": 1617296264411,
     "user": {
      "displayName": "Diego Cowen",
      "photoUrl": "https://lh3.googleusercontent.com/a-/AOh14GjO8mnfw734D_zId9Pb9H0btm46gyaEIHLqs5w0-g=s64",
      "userId": "00433632151485364739"
     },
     "user_tz": 180
    },
    "id": "twXaP3ROXkIO",
    "outputId": "ba51b6ba-0aef-4584-dbcc-92bdd071f2c1"
   },
   "outputs": [
    {
     "data": {
      "text/plain": [
       "nome_do_curso    Cursos de Python\n",
       "Name: 5, dtype: object"
      ]
     },
     "execution_count": 68,
     "metadata": {},
     "output_type": "execute_result"
    }
   ],
   "source": [
    "nome_curso"
   ]
  },
  {
   "cell_type": "code",
   "execution_count": 69,
   "metadata": {
    "colab": {
     "base_uri": "https://localhost:8080/",
     "height": 35
    },
    "executionInfo": {
     "elapsed": 850,
     "status": "ok",
     "timestamp": 1617296353568,
     "user": {
      "displayName": "Diego Cowen",
      "photoUrl": "https://lh3.googleusercontent.com/a-/AOh14GjO8mnfw734D_zId9Pb9H0btm46gyaEIHLqs5w0-g=s64",
      "userId": "00433632151485364739"
     },
     "user_tz": 180
    },
    "id": "Pzq7en4AXojU",
    "outputId": "79ec26cf-fbec-4e67-e96c-cf5bcdc473e7"
   },
   "outputs": [
    {
     "data": {
      "text/plain": [
       "'Cursos de Python'"
      ]
     },
     "execution_count": 69,
     "metadata": {},
     "output_type": "execute_result"
    }
   ],
   "source": [
    "nome_curso = nome_curso.nome_do_curso\n",
    "nome_curso"
   ]
  },
  {
   "cell_type": "code",
   "execution_count": 70,
   "metadata": {
    "executionInfo": {
     "elapsed": 554,
     "status": "ok",
     "timestamp": 1617296432925,
     "user": {
      "displayName": "Diego Cowen",
      "photoUrl": "https://lh3.googleusercontent.com/a-/AOh14GjO8mnfw734D_zId9Pb9H0btm46gyaEIHLqs5w0-g=s64",
      "userId": "00433632151485364739"
     },
     "user_tz": 180
    },
    "id": "VcY_lXulX-V8"
   },
   "outputs": [],
   "source": [
    "proxima_turma = proxima_turma.set_index('id_aluno').join(nomes.set_index('id_aluno'))['nome'].to_frame()"
   ]
  },
  {
   "cell_type": "code",
   "execution_count": 71,
   "metadata": {
    "colab": {
     "base_uri": "https://localhost:8080/",
     "height": 390
    },
    "executionInfo": {
     "elapsed": 480,
     "status": "ok",
     "timestamp": 1617296793390,
     "user": {
      "displayName": "Diego Cowen",
      "photoUrl": "https://lh3.googleusercontent.com/a-/AOh14GjO8mnfw734D_zId9Pb9H0btm46gyaEIHLqs5w0-g=s64",
      "userId": "00433632151485364739"
     },
     "user_tz": 180
    },
    "id": "G1d1HJWUYRw8",
    "outputId": "f69470a4-c986-4b98-ba79-c2357bd3a5d2"
   },
   "outputs": [
    {
     "data": {
      "text/html": [
       "<div>\n",
       "<style scoped>\n",
       "    .dataframe tbody tr th:only-of-type {\n",
       "        vertical-align: middle;\n",
       "    }\n",
       "\n",
       "    .dataframe tbody tr th {\n",
       "        vertical-align: top;\n",
       "    }\n",
       "\n",
       "    .dataframe thead th {\n",
       "        text-align: right;\n",
       "    }\n",
       "</style>\n",
       "<table border=\"1\" class=\"dataframe\">\n",
       "  <thead>\n",
       "    <tr style=\"text-align: right;\">\n",
       "      <th></th>\n",
       "      <th>Alunos do curso de Cursos de Python</th>\n",
       "    </tr>\n",
       "    <tr>\n",
       "      <th>id_aluno</th>\n",
       "      <th></th>\n",
       "    </tr>\n",
       "  </thead>\n",
       "  <tbody>\n",
       "    <tr>\n",
       "      <th>333</th>\n",
       "      <td>ROSANGELA</td>\n",
       "    </tr>\n",
       "    <tr>\n",
       "      <th>27</th>\n",
       "      <td>RAFAELA</td>\n",
       "    </tr>\n",
       "    <tr>\n",
       "      <th>193</th>\n",
       "      <td>ALESSANDRA</td>\n",
       "    </tr>\n",
       "    <tr>\n",
       "      <th>108</th>\n",
       "      <td>LUIZA</td>\n",
       "    </tr>\n",
       "    <tr>\n",
       "      <th>203</th>\n",
       "      <td>TATIANE</td>\n",
       "    </tr>\n",
       "    <tr>\n",
       "      <th>91</th>\n",
       "      <td>LORENA</td>\n",
       "    </tr>\n",
       "    <tr>\n",
       "      <th>137</th>\n",
       "      <td>DALVA</td>\n",
       "    </tr>\n",
       "    <tr>\n",
       "      <th>123</th>\n",
       "      <td>EDSON</td>\n",
       "    </tr>\n",
       "    <tr>\n",
       "      <th>164</th>\n",
       "      <td>MARIO</td>\n",
       "    </tr>\n",
       "    <tr>\n",
       "      <th>77</th>\n",
       "      <td>CAUA</td>\n",
       "    </tr>\n",
       "  </tbody>\n",
       "</table>\n",
       "</div>"
      ],
      "text/plain": [
       "         Alunos do curso de Cursos de Python\n",
       "id_aluno                                    \n",
       "333                                ROSANGELA\n",
       "27                                   RAFAELA\n",
       "193                               ALESSANDRA\n",
       "108                                    LUIZA\n",
       "203                                  TATIANE\n",
       "91                                    LORENA\n",
       "137                                    DALVA\n",
       "123                                    EDSON\n",
       "164                                    MARIO\n",
       "77                                      CAUA"
      ]
     },
     "execution_count": 71,
     "metadata": {},
     "output_type": "execute_result"
    }
   ],
   "source": [
    "proxima_turma = proxima_turma.rename(columns = {'nome' : 'Alunos do curso de {}'.format(nome_curso)})\n",
    "proxima_turma"
   ]
  },
  {
   "cell_type": "markdown",
   "metadata": {
    "id": "h_L9rhoxZ_LI"
   },
   "source": [
    "# Excel"
   ]
  },
  {
   "cell_type": "code",
   "execution_count": 72,
   "metadata": {
    "executionInfo": {
     "elapsed": 580,
     "status": "ok",
     "timestamp": 1617297020269,
     "user": {
      "displayName": "Diego Cowen",
      "photoUrl": "https://lh3.googleusercontent.com/a-/AOh14GjO8mnfw734D_zId9Pb9H0btm46gyaEIHLqs5w0-g=s64",
      "userId": "00433632151485364739"
     },
     "user_tz": 180
    },
    "id": "SjNeDo-6Yfwv"
   },
   "outputs": [],
   "source": [
    "proxima_turma.to_excel('proxima_turma.xlsx', index = False)"
   ]
  }
 ],
 "metadata": {
  "colab": {
   "authorship_tag": "ABX9TyNHglnw8qtSNkvOmIkaI79p",
   "name": "Pandas IO.ipynb",
   "provenance": [],
   "toc_visible": true
  },
  "kernelspec": {
   "display_name": "Python 3",
   "language": "python",
   "name": "python3"
  },
  "language_info": {
   "codemirror_mode": {
    "name": "ipython",
    "version": 3
   },
   "file_extension": ".py",
   "mimetype": "text/x-python",
   "name": "python",
   "nbconvert_exporter": "python",
   "pygments_lexer": "ipython3",
   "version": "3.8.5"
  }
 },
 "nbformat": 4,
 "nbformat_minor": 1
}
